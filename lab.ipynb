{
  "cells": [
    {
      "cell_type": "code",
      "execution_count": 1,
      "metadata": {
        "id": "AYaE7_JJ0FPF"
      },
      "outputs": [],
      "source": [
        "import numpy as np\n",
        "import pandas as pd\n",
        "import seaborn as sns\n",
        "import matplotlib.pyplot as plt"
      ]
    },
    {
      "cell_type": "markdown",
      "source": [
        "# 1. Разминка (4 балла)"
      ],
      "metadata": {
        "id": "0RCmksOJI3xV"
      }
    },
    {
      "cell_type": "markdown",
      "source": [
        "## 1.1 Создание матриц (0.25 балла)\n",
        "\n",
        "Создайте 4 матрицы\n",
        "- A - \"шахматную\" из нулей и единиц, размера 6 на 3, левое верхнее значение (A[0][0]) равно 1,\n",
        "- В - из чисел от 1 до 24, записанных в виде змейки, размера 6 на 4,\n",
        "- C - из случайных целых чисел от 2 до 10 (обе границы включительно), размера 4 на 3\n",
        "- D - из нулей с единичками на главной диагонали, размера 4 на 4.\n",
        "\n",
        "**Создайте из этих матриц \"лоскутную\" матрицу S**\n",
        "\n",
        "A В\n",
        "\n",
        "С D\n",
        "\n",
        "используя **только стандартные** операции numpy. Comprehensions использовать нельзя.\n",
        "\n",
        "После этого допишите к полученной матрице S матрицу F размера 10 на 2 из нулей, чтобы получилась матрица G:\n",
        "\n",
        "S F\n",
        "\n",
        "P.S. Когда мы говорим, что матрица имеет размер x на y, x - количество строк, y - количество столбцов."
      ],
      "metadata": {
        "id": "Qcg7rwRgLEhK"
      }
    },
    {
      "cell_type": "code",
      "source": [
        "A = np.indices((6, 3)).sum(axis=0) % 2\n",
        "\n",
        "print(\"A:\\n\", A)\n",
        "\n",
        "B = np.zeros((6, 4), dtype=int)\n",
        "numbers = np.arange(1, 25)\n",
        "\n",
        "for i in range(4):\n",
        "  start = i * 6\n",
        "  end = (i + 1) * 6\n",
        "  if i % 2 == 0:\n",
        "    B[:, i] = numbers[start:end]\n",
        "  else:\n",
        "    B[:, i] = numbers[end-1:start-1:-1]\n",
        "\n",
        "print(\"B:\\n\", B)\n",
        "\n",
        "C = np.random.randint(2, 11, size=(4, 3))\n",
        "\n",
        "print(\"C:\\n\", C)\n",
        "\n",
        "D = np.zeros((4, 4), dtype=int)\n",
        "\n",
        "for i in range(4):\n",
        "    D[i][i] = 1\n",
        "\n",
        "print(\"D:\\n\", D)\n",
        "\n",
        "S = np.vstack([np.hstack([A, B]), np.hstack([C, D])])\n",
        "\n",
        "print(\"S:\\n\", S)\n",
        "\n",
        "F = np.zeros((10, 7), dtype=int)\n",
        "\n",
        "print(\"F:\\n\", F)\n",
        "\n",
        "G = np.vstack([S, F])\n",
        "print(\"G:\\n\", G)"
      ],
      "metadata": {
        "id": "agysa3FoLG6G",
        "colab": {
          "base_uri": "https://localhost:8080/"
        },
        "outputId": "6dbb9e47-a005-4c39-c59f-ac1b618a16be"
      },
      "execution_count": 3,
      "outputs": [
        {
          "output_type": "stream",
          "name": "stdout",
          "text": [
            "A:\n",
            " [[0 1 0]\n",
            " [1 0 1]\n",
            " [0 1 0]\n",
            " [1 0 1]\n",
            " [0 1 0]\n",
            " [1 0 1]]\n",
            "B:\n",
            " [[ 1 12 13 24]\n",
            " [ 2 11 14 23]\n",
            " [ 3 10 15 22]\n",
            " [ 4  9 16 21]\n",
            " [ 5  8 17 20]\n",
            " [ 6  7 18 19]]\n",
            "C:\n",
            " [[10  4  2]\n",
            " [ 9  9  5]\n",
            " [ 4  3  9]\n",
            " [ 5  8 10]]\n",
            "D:\n",
            " [[1 0 0 0]\n",
            " [0 1 0 0]\n",
            " [0 0 1 0]\n",
            " [0 0 0 1]]\n",
            "S:\n",
            " [[ 0  1  0  1 12 13 24]\n",
            " [ 1  0  1  2 11 14 23]\n",
            " [ 0  1  0  3 10 15 22]\n",
            " [ 1  0  1  4  9 16 21]\n",
            " [ 0  1  0  5  8 17 20]\n",
            " [ 1  0  1  6  7 18 19]\n",
            " [10  4  2  1  0  0  0]\n",
            " [ 9  9  5  0  1  0  0]\n",
            " [ 4  3  9  0  0  1  0]\n",
            " [ 5  8 10  0  0  0  1]]\n",
            "F:\n",
            " [[0 0 0 0 0 0 0]\n",
            " [0 0 0 0 0 0 0]\n",
            " [0 0 0 0 0 0 0]\n",
            " [0 0 0 0 0 0 0]\n",
            " [0 0 0 0 0 0 0]\n",
            " [0 0 0 0 0 0 0]\n",
            " [0 0 0 0 0 0 0]\n",
            " [0 0 0 0 0 0 0]\n",
            " [0 0 0 0 0 0 0]\n",
            " [0 0 0 0 0 0 0]]\n",
            "G:\n",
            " [[ 0  1  0  1 12 13 24]\n",
            " [ 1  0  1  2 11 14 23]\n",
            " [ 0  1  0  3 10 15 22]\n",
            " [ 1  0  1  4  9 16 21]\n",
            " [ 0  1  0  5  8 17 20]\n",
            " [ 1  0  1  6  7 18 19]\n",
            " [10  4  2  1  0  0  0]\n",
            " [ 9  9  5  0  1  0  0]\n",
            " [ 4  3  9  0  0  1  0]\n",
            " [ 5  8 10  0  0  0  1]\n",
            " [ 0  0  0  0  0  0  0]\n",
            " [ 0  0  0  0  0  0  0]\n",
            " [ 0  0  0  0  0  0  0]\n",
            " [ 0  0  0  0  0  0  0]\n",
            " [ 0  0  0  0  0  0  0]\n",
            " [ 0  0  0  0  0  0  0]\n",
            " [ 0  0  0  0  0  0  0]\n",
            " [ 0  0  0  0  0  0  0]\n",
            " [ 0  0  0  0  0  0  0]\n",
            " [ 0  0  0  0  0  0  0]]\n"
          ]
        }
      ]
    },
    {
      "cell_type": "markdown",
      "source": [
        "## 1.2 Поиск ближайшего соседа (0.25 балла)\n",
        "\n",
        "Реализуйте функцию, принимающую на вход матрицу X и некоторое число a и возвращающую ближайший к числу элемент матрицы.\n",
        "Например, для X = np.arange(0,10).reshape((2, 5)) и a = 3.6 ответом будет 4. Можно пользоваться только базовыми функциями numpy, циклами пользоваться **нельзя**."
      ],
      "metadata": {
        "id": "PPNphrLJLYaO"
      }
    },
    {
      "cell_type": "code",
      "source": [
        "X = np.arange(0,10).reshape((2, 5))\n",
        "a = 3.6\n",
        "\n",
        "def find_nearest_neighbour(X, a):\n",
        "    diff = np.abs(X - a)\n",
        "\n",
        "    min_value = np.min(diff)\n",
        "    index = np.where(diff == min_value)\n",
        "\n",
        "    return X[index]\n",
        "\n",
        "print(find_nearest_neighbour(X, a))\n"
      ],
      "metadata": {
        "id": "9iyCwtKeL4Sx",
        "colab": {
          "base_uri": "https://localhost:8080/"
        },
        "outputId": "229f3e6b-f80f-4554-8c41-16f4eb890fd1"
      },
      "execution_count": 4,
      "outputs": [
        {
          "output_type": "stream",
          "name": "stdout",
          "text": [
            "[4]\n"
          ]
        }
      ]
    },
    {
      "cell_type": "markdown",
      "source": [
        "## 1.3 Очень странная нейросеть (0.25 балла)\n",
        "\n",
        "Реализуйте одну очень странную нейросеть. Нейросеть должна:\n",
        "\n",
        "- Возводить матрицу A (матрицу весов) размера N x N в квадрат\n",
        "- В качестве первого преобразования умножать вектор X длины N (вектор признаков) на матрицу весов A**2 (на выходе получается новый вектор);\n",
        "- В качестве второго преобразования умножать вектор, полученный на прошлом шаге, на вектор b (вектор весов) размера N (на выходе получается скалярное число).\n",
        "\n",
        "Считаем, что все числа (элементы матриц и векторов) - числа с плавающей точкой."
      ],
      "metadata": {
        "id": "KjVNDl-qM5va"
      }
    },
    {
      "cell_type": "code",
      "source": [
        "# Придумайте свои данные для примера, N >= 4\n",
        "A = np.array([\n",
        "  [0.1, 0.2, -0.3, 0.4, 0.5],\n",
        "  [0.6, -0.7, 0.8, -0.9, 1.0],\n",
        "  [-0.1, 0.2, 0.3, -0.4, 0.5],\n",
        "  [0.7, -0.8, 0.9, -1.0, 1.1],\n",
        "  [0.2, 0.3, 0.4, 0.5, 0.6]\n",
        "])\n",
        "b = np.array([0.3, -0.2, 0.1, 0.4, -0.5])\n",
        "X = np.array([0.2, 0.8, 0.1, 0.5, 0.9])\n",
        "\n",
        "def very_strange_neural_network(A, b, X):\n",
        "\n",
        "    matrix_square = A @ A\n",
        "\n",
        "    X_first_approx = X @ matrix_square\n",
        "\n",
        "    X_two_approx = X_first_approx @ b\n",
        "\n",
        "    return X_two_approx\n",
        "\n",
        "print(very_strange_neural_network(A, b, X))"
      ],
      "metadata": {
        "id": "fK9N52bVOQk3",
        "colab": {
          "base_uri": "https://localhost:8080/"
        },
        "outputId": "0799694b-0b91-4dbb-aa3b-0417b6455381"
      },
      "execution_count": 12,
      "outputs": [
        {
          "output_type": "stream",
          "name": "stdout",
          "text": [
            "-0.24650000000000005\n"
          ]
        }
      ]
    },
    {
      "cell_type": "markdown",
      "source": [
        "## 1.4 Джунгли зовут! (0.25 балла)\n",
        "\n",
        "Перед вами матрица M - карта местности тяжелопроходимых джунглей, составленная Ларой Крофт. На карте каждая ячейка - целое число, обозначающее высоту над уровнем моря (если число больше нуля) в метрах или глубину моря (если число меньше нуля) в метрах в данной ячейке карты размером метр на метр. Если число 0, то это часть суши - берег.\n",
        "\n",
        "\n",
        "Вам необходимо посчитать:\n",
        "- Общую площадь клеточек моря, в которых его глубина больше 5 (в м^2)\n",
        "- Общий объём всей воды на карте (в м^3)\n",
        "- Максимальную высоту над уровнем моря, которая есть на этой карте (в м)"
      ],
      "metadata": {
        "id": "zqJo51OHO0Op"
      }
    },
    {
      "cell_type": "code",
      "source": [
        "def find_deep_sea_area(M):\n",
        "    return np.sum(M < -5)\n",
        "\n",
        "def find_water_volume(M):\n",
        "    return np.sum(np.abs(M[M < 0]))\n",
        "\n",
        "def find_max_height(M):\n",
        "    return np.max(M)\n"
      ],
      "metadata": {
        "id": "_xSlubGZSp-P"
      },
      "execution_count": 23,
      "outputs": []
    },
    {
      "cell_type": "code",
      "source": [
        "# Можно подставить свой пример\n",
        "M = np.array([\n",
        "    [-7, -3, -1, 0],\n",
        "    [-4, -3, 1, 19],\n",
        "    [-2, 0, 4, 25],\n",
        "    [-1, 3, 6, 9]\n",
        "])\n",
        "\n",
        "# простая проверка для примера выше\n",
        "assert np.isclose(find_deep_sea_area(M), 1)\n",
        "assert np.isclose(find_water_volume(M), 21)\n",
        "assert np.isclose(find_max_height(M), 25)\n",
        "\n",
        "print(\"Общая площадь моря на карте -\", find_deep_sea_area(M), \"м^2\")\n",
        "print(\"Общий объем воды на карте -\", find_water_volume(M), \"м^3\")\n",
        "print(\"Максимальный уровень над уровнем моря на карте -\", find_max_height(M), \"м\")"
      ],
      "metadata": {
        "id": "c6f0bMWKSuo-",
        "colab": {
          "base_uri": "https://localhost:8080/"
        },
        "outputId": "3a372c2f-0dfe-41ce-8141-ea5b033c219d"
      },
      "execution_count": 25,
      "outputs": [
        {
          "output_type": "stream",
          "name": "stdout",
          "text": [
            "Общая площадь моря на карте - 1 м^2\n",
            "Общий объем воды на карте - 21 м^3\n",
            "Максимальный уровень над уровнем моря на карте - 25 м\n"
          ]
        }
      ]
    },
    {
      "cell_type": "markdown",
      "source": [
        "## 1.5 Острова сокровищ (0.25 балла)\n",
        "\n",
        "\n",
        "На вход функции подаётся массив a из нулей и единиц. Необходимо посчитать, сколько в массиве есть блоков из идущих подряд единиц (островков). Можно пользоваться только базовыми функциями numpy, циклами пользоваться **нельзя**.\n",
        "\n",
        "Подсказка: посмотрите, что такое `np.diff`"
      ],
      "metadata": {
        "id": "_aqjtctjExok"
      }
    },
    {
      "cell_type": "code",
      "source": [
        "def count_all_islands(a):\n",
        "    diff = np.diff(a)\n",
        "    islands = np.sum(diff == 1) + (a[0] == 1)\n",
        "    return islands"
      ],
      "metadata": {
        "id": "c5UFVtX_Ff_d"
      },
      "execution_count": 28,
      "outputs": []
    },
    {
      "cell_type": "code",
      "source": [
        "# можно подставить свой пример\n",
        "\n",
        "a = np.array([0, 0, 1, 1, 1, 0, 0, 0, 0, 1, 1, 0, 0, 1, 0, 1, 1, 1])\n",
        "\n",
        "# простая проверка для примера выше\n",
        "assert count_all_islands(a) == 4\n",
        "print(count_all_islands(a))"
      ],
      "metadata": {
        "id": "OeiTXVnFFYSm",
        "colab": {
          "base_uri": "https://localhost:8080/"
        },
        "outputId": "f1715b69-42b4-4dd8-e3da-b9c8d7b900c6"
      },
      "execution_count": 29,
      "outputs": [
        {
          "output_type": "stream",
          "name": "stdout",
          "text": [
            "4\n"
          ]
        }
      ]
    },
    {
      "cell_type": "markdown",
      "source": [
        "## 1.6 Маскарад (0.25 балла)\n",
        "\n",
        "На вход идёт 2-мерная матрица X, заполненная числами с плавающей точкой, и дробное число a. Нужно заменить все ячейки в матрице, которые больше, чем а, на среднее значение среди элементов матрицы Х.\n",
        "\n",
        "**Нужно** пользоваться базовыми функциями numpy, **нельзя** пользоваться циклами."
      ],
      "metadata": {
        "id": "4KyG4iVKFmvv"
      }
    },
    {
      "cell_type": "code",
      "source": [
        "def swap_mask_for_average(X, a):\n",
        "\n",
        "    mean_value_matrix = np.mean(X)\n",
        "\n",
        "    X[X > a] = mean_value_matrix\n",
        "    return X"
      ],
      "metadata": {
        "id": "um-nH9VgGbeF"
      },
      "execution_count": 33,
      "outputs": []
    },
    {
      "cell_type": "code",
      "source": [
        "# Можно подставить свой пример\n",
        "M = np.array([\n",
        "    [-7, -3, -1, 0],\n",
        "    [-4, -3, 1, 19],\n",
        "    [-2, 0, 4, 25],\n",
        "    [-1, 3, 6, 9]\n",
        "])\n",
        "a = 5\n",
        "\n",
        "# простая проверка для примера выше\n",
        "assert np.allclose(swap_mask_for_average(M, a),\n",
        "                   np.array([\n",
        "                       [-7, -3, -1, 0],\n",
        "                       [-4, -3, 1, 2],\n",
        "                       [-2, 0, 4, 2],\n",
        "                       [-1, 3, 2, 2]\n",
        "                   ]))\n",
        "\n",
        "swap_mask_for_average(M, a)"
      ],
      "metadata": {
        "id": "3VM2Q15zGiCL",
        "colab": {
          "base_uri": "https://localhost:8080/"
        },
        "outputId": "b703180c-603b-4475-b2bd-d38ff93006af"
      },
      "execution_count": 34,
      "outputs": [
        {
          "output_type": "execute_result",
          "data": {
            "text/plain": [
              "array([[-7, -3, -1,  0],\n",
              "       [-4, -3,  1,  2],\n",
              "       [-2,  0,  4,  2],\n",
              "       [-1,  3,  2,  2]])"
            ]
          },
          "metadata": {},
          "execution_count": 34
        }
      ]
    },
    {
      "cell_type": "markdown",
      "source": [
        "## 1.7 По горячим трейсам (0.25 балла)\n",
        "\n",
        "На вход приходит квадратная матрица М, надо посчитать разницу между суммой по главной и побочной диагоналями матрицы.\n",
        "\n",
        "\n",
        "Можно пользоваться только базовыми функциями numpy, циклами пользоваться **нельзя**.\n",
        "\n",
        "Подсказка: посмотрите, что такое `np.trace`"
      ],
      "metadata": {
        "id": "W8IS-G9mHygT"
      }
    },
    {
      "cell_type": "code",
      "source": [
        "def count_trace_diff(M):\n",
        "    pass # TODO"
      ],
      "metadata": {
        "id": "iD0baTAxIil6"
      },
      "execution_count": null,
      "outputs": []
    },
    {
      "cell_type": "code",
      "source": [
        "# Можно подставить свой пример\n",
        "M = np.array([\n",
        "    [-7, -3, -1, 0],\n",
        "    [-4, -3, 1, 19],\n",
        "    [-2, 0, 4, 25],\n",
        "    [-1, 3, 6, 9]\n",
        "])\n",
        "\n",
        "# простая проверка для примера выше\n",
        "assert np.allclose(count_trace_diff(M), 3)\n",
        "\n",
        "count_trace_diff(M)"
      ],
      "metadata": {
        "id": "9cewBWIyIy7G"
      },
      "execution_count": null,
      "outputs": []
    },
    {
      "cell_type": "markdown",
      "source": [
        "## 1.8 Царь горы (0.25 балла)\n",
        "\n",
        "На вход приходит вектор a размера N. Необходимо при помощи сложения, конкатенации, бродкастинга получить симметричную матрицу размера 2N x 2N, у которой в середине максимальное значение, а к краям оно убывает.\n",
        "\n",
        "Пример: a = (0, 1, 2)\n",
        "\n",
        "Результат:\n",
        "\n",
        "0 1 2 2 1 0 \\\\\n",
        "1 2 3 3 2 1 \\\\\n",
        "2 3 4 4 3 2 \\\\\n",
        "2 3 4 4 3 2 \\\\\n",
        "1 2 3 3 2 1 \\\\\n",
        "0 1 2 2 1 0 \\\\"
      ],
      "metadata": {
        "id": "SPXmaaXCGu9X"
      }
    },
    {
      "cell_type": "code",
      "source": [
        "def create_mountain(a):\n",
        "  corner = a[np.newaxis, :] + a[:, np.newaxis]\n",
        "\n",
        "  upper = corner\n",
        "  lower = np.flip(corner, axis=0)\n",
        "\n",
        "  half = np.concatenate((upper, lower), axis=0)\n",
        "  mountain = np.concatenate((half, np.fliplr(half)), axis=1) #более понятное отражение\n",
        "\n",
        "  return mountain"
      ],
      "metadata": {
        "id": "AIZjzQ7qHasl"
      },
      "execution_count": 68,
      "outputs": []
    },
    {
      "cell_type": "code",
      "source": [
        "# Можно подставить свой пример\n",
        "a = np.array([0, 1, 2, 3, 4])\n",
        "\n",
        "create_mountain(a)"
      ],
      "metadata": {
        "id": "mPc6GlqTHi4y",
        "colab": {
          "base_uri": "https://localhost:8080/"
        },
        "outputId": "36ff908c-3870-4157-d755-6ee2baa6872a"
      },
      "execution_count": 69,
      "outputs": [
        {
          "output_type": "execute_result",
          "data": {
            "text/plain": [
              "array([[0, 1, 2, 3, 4, 4, 3, 2, 1, 0],\n",
              "       [1, 2, 3, 4, 5, 5, 4, 3, 2, 1],\n",
              "       [2, 3, 4, 5, 6, 6, 5, 4, 3, 2],\n",
              "       [3, 4, 5, 6, 7, 7, 6, 5, 4, 3],\n",
              "       [4, 5, 6, 7, 8, 8, 7, 6, 5, 4],\n",
              "       [4, 5, 6, 7, 8, 8, 7, 6, 5, 4],\n",
              "       [3, 4, 5, 6, 7, 7, 6, 5, 4, 3],\n",
              "       [2, 3, 4, 5, 6, 6, 5, 4, 3, 2],\n",
              "       [1, 2, 3, 4, 5, 5, 4, 3, 2, 1],\n",
              "       [0, 1, 2, 3, 4, 4, 3, 2, 1, 0]])"
            ]
          },
          "metadata": {},
          "execution_count": 69
        }
      ]
    },
    {
      "cell_type": "markdown",
      "source": [
        "## 1.9 Монохромная фотография 9 на 12 (0.5 балла)\n",
        "\n",
        "На вход приходит двухмерная матрица P размера N на M, заполненная числами от 0 до 255, соответствующая некой черно-белой фотографии и натуральное число C. Необходимо из неё получить матрицу размера (N-C + 1) x (M-C+1), где каждая ячейка - среднее значение соответствующей подматрицы размера C x C. Таким образом, по сути, мы сделаем примитивное размытие изображения (и немного потеряем в его размере)"
      ],
      "metadata": {
        "id": "_0DqE59yI4wo"
      }
    },
    {
      "cell_type": "code",
      "source": [
        "def custom_blur(P, C):\n",
        "      N, M = P.shape\n",
        "      result = np.zeros((N - C + 1, M - C + 1))\n",
        "      for i in range(N - C + 1):\n",
        "          for j in range(M - C + 1):\n",
        "              result[i, j] = np.mean(P[i:i + C, j:j + C])\n",
        "\n",
        "      return result"
      ],
      "metadata": {
        "id": "_x1l9qofKBuT"
      },
      "execution_count": 60,
      "outputs": []
    },
    {
      "cell_type": "code",
      "source": [
        "# можно подставить свой пример\n",
        "P = np.arange(0, 12).reshape((3, 4))\n",
        "kernel = 2\n",
        "\n",
        "# простая проверка для примера выше\n",
        "assert np.allclose(custom_blur(P, kernel),\n",
        "                   np.array([[2.5, 3.5, 4.5], [6.5, 7.5, 8.5]]))\n",
        "custom_blur(P, 2 )"
      ],
      "metadata": {
        "id": "1UHsPZG6KNjB",
        "colab": {
          "base_uri": "https://localhost:8080/"
        },
        "outputId": "0e47475a-2068-467d-fa42-67b75853e797"
      },
      "execution_count": 61,
      "outputs": [
        {
          "output_type": "execute_result",
          "data": {
            "text/plain": [
              "array([[2.5, 3.5, 4.5],\n",
              "       [6.5, 7.5, 8.5]])"
            ]
          },
          "metadata": {},
          "execution_count": 61
        }
      ]
    },
    {
      "cell_type": "markdown",
      "source": [
        "## 1.10 Функция проверки (0.75 балла)\n",
        "\n",
        "На вход функции поступает произвольное (>2) кортежей размеров (shape) различных матриц. Необходимо вернуть True если можно последовательно сложить эти матрицы (возможно, с помощью broadcasting), и False если нет."
      ],
      "metadata": {
        "id": "dfOlyj2NKUQM"
      }
    },
    {
      "cell_type": "code",
      "source": [
        "def check_successful_broadcast(*matrices):\n",
        "    shapes = [np.array(matrix).shape for matrix in matrices]\n",
        "    max_dims = max(len(shape) for shape in shapes)\n",
        "\n",
        "    for i in range(max_dims):\n",
        "        dims = [shape[i] if i < len(shape) else 1 for shape in shapes]\n",
        "        if len(set(d for d in dims if d != 1)) > 1:\n",
        "            return False\n",
        "    return True"
      ],
      "metadata": {
        "id": "pvsySOXiLSll"
      },
      "execution_count": 39,
      "outputs": []
    },
    {
      "cell_type": "code",
      "source": [
        "assert check_successful_broadcast((5, 6, 7), (6, 7), (1, 7))\n",
        "# можно ещё потестировать на своих примерах"
      ],
      "metadata": {
        "id": "j2nlX8gZLgu_",
        "colab": {
          "base_uri": "https://localhost:8080/",
          "height": 166
        },
        "outputId": "e57e1ab0-3ff7-42c1-96b0-90e1accb1425"
      },
      "execution_count": 40,
      "outputs": [
        {
          "output_type": "error",
          "ename": "AssertionError",
          "evalue": "",
          "traceback": [
            "\u001b[0;31m---------------------------------------------------------------------------\u001b[0m",
            "\u001b[0;31mAssertionError\u001b[0m                            Traceback (most recent call last)",
            "\u001b[0;32m<ipython-input-40-f7a92f76610a>\u001b[0m in \u001b[0;36m<cell line: 1>\u001b[0;34m()\u001b[0m\n\u001b[0;32m----> 1\u001b[0;31m \u001b[0;32massert\u001b[0m \u001b[0mcheck_successful_broadcast\u001b[0m\u001b[0;34m(\u001b[0m\u001b[0;34m(\u001b[0m\u001b[0;36m5\u001b[0m\u001b[0;34m,\u001b[0m \u001b[0;36m6\u001b[0m\u001b[0;34m,\u001b[0m \u001b[0;36m7\u001b[0m\u001b[0;34m)\u001b[0m\u001b[0;34m,\u001b[0m \u001b[0;34m(\u001b[0m\u001b[0;36m6\u001b[0m\u001b[0;34m,\u001b[0m \u001b[0;36m7\u001b[0m\u001b[0;34m)\u001b[0m\u001b[0;34m,\u001b[0m \u001b[0;34m(\u001b[0m\u001b[0;36m1\u001b[0m\u001b[0;34m,\u001b[0m \u001b[0;36m7\u001b[0m\u001b[0;34m)\u001b[0m\u001b[0;34m)\u001b[0m\u001b[0;34m\u001b[0m\u001b[0;34m\u001b[0m\u001b[0m\n\u001b[0m\u001b[1;32m      2\u001b[0m \u001b[0;31m# можно ещё потестировать на своих примерах\u001b[0m\u001b[0;34m\u001b[0m\u001b[0;34m\u001b[0m\u001b[0m\n",
            "\u001b[0;31mAssertionError\u001b[0m: "
          ]
        }
      ]
    },
    {
      "cell_type": "markdown",
      "source": [
        "## 1.11 Попарные расстояния (0.75 балла)\n",
        "\n",
        "На вход подаются матрицы A размера m x k и матрица B размера n x k. Нужно получить матрицу размера m x n, содержащую попарные евклидовы расстояния.\n",
        "\n",
        "Можно пользоваться только базовыми функциями, нельзя пользоваться циклами, сторонними библиотеками; скорее всего, пригодится broadcasting. Авторское решение записывается **в одну строчку** в соответствии со всеми правилами кодстайла."
      ],
      "metadata": {
        "id": "HCLr2eqgLrnW"
      }
    },
    {
      "cell_type": "code",
      "source": [
        "def pairwise_distances(A, B):\n",
        "    return np.sqrt(((A[:, np.newaxis] - B) ** 2).sum(axis=-1))"
      ],
      "metadata": {
        "id": "BsYOG1fCMVTp"
      },
      "execution_count": 43,
      "outputs": []
    },
    {
      "cell_type": "code",
      "source": [
        "A = np.array([[1, 2], [3, 4]])\n",
        "B = np.array([[5, 6], [7, 8], [9, 10]])\n",
        "\n",
        "pairwise_distances(A, B)"
      ],
      "metadata": {
        "id": "tjXHwtl0Mgdt",
        "colab": {
          "base_uri": "https://localhost:8080/"
        },
        "outputId": "52965bd0-0a31-4683-9a2e-074a35f87022"
      },
      "execution_count": 70,
      "outputs": [
        {
          "output_type": "execute_result",
          "data": {
            "text/plain": [
              "array([[ 5.65685425,  8.48528137, 11.3137085 ],\n",
              "       [ 2.82842712,  5.65685425,  8.48528137]])"
            ]
          },
          "metadata": {},
          "execution_count": 70
        }
      ]
    },
    {
      "cell_type": "markdown",
      "source": [
        "Объясни принцип работы этой одной строчки. Что именно происходит в ней?\n",
        "\n",
        "Ответ:\n",
        "- Вставляем новую ось. Получили трёхмерный массив\n",
        "- Всё возводим в степень\n",
        "- Складываем все по оси координат точек и возвращаем корень\n"
      ],
      "metadata": {
        "id": "ZTgj4OtAgcyI"
      }
    },
    {
      "cell_type": "markdown",
      "metadata": {
        "id": "54rP40WP9qzf"
      },
      "source": [
        "# 2. Обработка данных эксперимента (3 балла)"
      ]
    },
    {
      "cell_type": "markdown",
      "source": [
        "А сейчас, дамы и господа, мы научимся использовать библиотеки для анализа данных в реальности!\n",
        "\n",
        "**Причина появления этого раздела проста**: многие студенты ПМФ даже во втором и третьем семестрах продолжают использовать Excel, калькулятор или лист бумаги. Хочется открыть глаза на ещё один способ выполнения лабораторных с намного меньшим порогом вхождения, чем тот же Excel. Авторы надеются, что кого-то это замотивирует присмотреться к удобным библиотекам.\n",
        "\n",
        "*Спонсор данных для раздела - blacksamorez. Без него пять счастливых семестров лаб были бы совсем не счастливыми...*"
      ],
      "metadata": {
        "id": "QnfGJx2qMvBH"
      }
    },
    {
      "cell_type": "code",
      "execution_count": 46,
      "metadata": {
        "id": "ZhGfEL9KtqZN"
      },
      "outputs": [],
      "source": [
        "import numpy as np\n",
        "import pandas as pd\n",
        "import matplotlib.pyplot as plt"
      ]
    },
    {
      "cell_type": "markdown",
      "metadata": {
        "id": "q2Qr6BIzASBB"
      },
      "source": [
        "##  2.1. Постановка задачи и данные\n",
        "\n",
        "Предположим, у нас есть гироскоп с прицепленным к его оси грузом на рычаге (см. рисунок для быстрого понимания, а подробности можно узнать в [лабораторном практикуме](https://lib.mipt.ru/book/267519/), том 1, стр.160). Из-за наличия груза гироскоп начинает медленно [прецессировать](https://ru.wikipedia.org/wiki/%D0%9F%D1%80%D0%B5%D1%86%D0%B5%D1%81%D1%81%D0%B8%D1%8F), т.е. вращаться вокруг вертикальной оси с какой-то более-менее постоянной частотой.\n",
        "\n",
        "Мы с вами разберём часть этой лабораторной, в основном касающуюся обработки данных и построения графиков."
      ]
    },
    {
      "cell_type": "markdown",
      "source": [
        "<center><img src='https://drive.google.com/uc?export=view&id=1KfYQ0hKYRDhi5uk7C8lNffZBNy8NF7nu' width=600>\n",
        "\n",
        "Изображение гироскопа с подвешенным грузом Г и рычагом С</center>"
      ],
      "metadata": {
        "id": "FrPpSNRaKsfa"
      }
    },
    {
      "cell_type": "markdown",
      "metadata": {
        "id": "XxZ2BYwEkWTI"
      },
      "source": [
        "[link text](https://)Для начала посмотрим на данные, которые любезно кто-то для нас собрал. Создайте датафрейм из [файла](https://drive.google.com/file/d/1SbLR6R16obqLewUTnX1CAAjQTrVXh2Vq/view?usp=sharing)"
      ]
    },
    {
      "cell_type": "code",
      "execution_count": 49,
      "metadata": {
        "colab": {
          "base_uri": "https://localhost:8080/",
          "height": 206
        },
        "id": "b8vBlrx1tlKv",
        "outputId": "aaea835c-36a2-4ca1-aeea-7644bafdd52e"
      },
      "outputs": [
        {
          "output_type": "execute_result",
          "data": {
            "text/plain": [
              "   Unnamed: 0  N  t, sec  sigma_t, sec  mass, gramm  length, cm  phi, rad\n",
              "0           1  4     268             1        180.0       121.0      0.16\n",
              "1           2  4     264             1        180.0       121.0      0.18\n",
              "2           3  4     275             1        180.0       121.0      0.16\n",
              "3           4  4     263             1        180.0       121.0      0.17\n",
              "4           5  4     267             1        180.0       121.0      0.17"
            ],
            "text/html": [
              "\n",
              "  <div id=\"df-2f1c510b-2e3f-496a-a0d5-d50da809c9d2\" class=\"colab-df-container\">\n",
              "    <div>\n",
              "<style scoped>\n",
              "    .dataframe tbody tr th:only-of-type {\n",
              "        vertical-align: middle;\n",
              "    }\n",
              "\n",
              "    .dataframe tbody tr th {\n",
              "        vertical-align: top;\n",
              "    }\n",
              "\n",
              "    .dataframe thead th {\n",
              "        text-align: right;\n",
              "    }\n",
              "</style>\n",
              "<table border=\"1\" class=\"dataframe\">\n",
              "  <thead>\n",
              "    <tr style=\"text-align: right;\">\n",
              "      <th></th>\n",
              "      <th>Unnamed: 0</th>\n",
              "      <th>N</th>\n",
              "      <th>t, sec</th>\n",
              "      <th>sigma_t, sec</th>\n",
              "      <th>mass, gramm</th>\n",
              "      <th>length, cm</th>\n",
              "      <th>phi, rad</th>\n",
              "    </tr>\n",
              "  </thead>\n",
              "  <tbody>\n",
              "    <tr>\n",
              "      <th>0</th>\n",
              "      <td>1</td>\n",
              "      <td>4</td>\n",
              "      <td>268</td>\n",
              "      <td>1</td>\n",
              "      <td>180.0</td>\n",
              "      <td>121.0</td>\n",
              "      <td>0.16</td>\n",
              "    </tr>\n",
              "    <tr>\n",
              "      <th>1</th>\n",
              "      <td>2</td>\n",
              "      <td>4</td>\n",
              "      <td>264</td>\n",
              "      <td>1</td>\n",
              "      <td>180.0</td>\n",
              "      <td>121.0</td>\n",
              "      <td>0.18</td>\n",
              "    </tr>\n",
              "    <tr>\n",
              "      <th>2</th>\n",
              "      <td>3</td>\n",
              "      <td>4</td>\n",
              "      <td>275</td>\n",
              "      <td>1</td>\n",
              "      <td>180.0</td>\n",
              "      <td>121.0</td>\n",
              "      <td>0.16</td>\n",
              "    </tr>\n",
              "    <tr>\n",
              "      <th>3</th>\n",
              "      <td>4</td>\n",
              "      <td>4</td>\n",
              "      <td>263</td>\n",
              "      <td>1</td>\n",
              "      <td>180.0</td>\n",
              "      <td>121.0</td>\n",
              "      <td>0.17</td>\n",
              "    </tr>\n",
              "    <tr>\n",
              "      <th>4</th>\n",
              "      <td>5</td>\n",
              "      <td>4</td>\n",
              "      <td>267</td>\n",
              "      <td>1</td>\n",
              "      <td>180.0</td>\n",
              "      <td>121.0</td>\n",
              "      <td>0.17</td>\n",
              "    </tr>\n",
              "  </tbody>\n",
              "</table>\n",
              "</div>\n",
              "    <div class=\"colab-df-buttons\">\n",
              "\n",
              "  <div class=\"colab-df-container\">\n",
              "    <button class=\"colab-df-convert\" onclick=\"convertToInteractive('df-2f1c510b-2e3f-496a-a0d5-d50da809c9d2')\"\n",
              "            title=\"Convert this dataframe to an interactive table.\"\n",
              "            style=\"display:none;\">\n",
              "\n",
              "  <svg xmlns=\"http://www.w3.org/2000/svg\" height=\"24px\" viewBox=\"0 -960 960 960\">\n",
              "    <path d=\"M120-120v-720h720v720H120Zm60-500h600v-160H180v160Zm220 220h160v-160H400v160Zm0 220h160v-160H400v160ZM180-400h160v-160H180v160Zm440 0h160v-160H620v160ZM180-180h160v-160H180v160Zm440 0h160v-160H620v160Z\"/>\n",
              "  </svg>\n",
              "    </button>\n",
              "\n",
              "  <style>\n",
              "    .colab-df-container {\n",
              "      display:flex;\n",
              "      gap: 12px;\n",
              "    }\n",
              "\n",
              "    .colab-df-convert {\n",
              "      background-color: #E8F0FE;\n",
              "      border: none;\n",
              "      border-radius: 50%;\n",
              "      cursor: pointer;\n",
              "      display: none;\n",
              "      fill: #1967D2;\n",
              "      height: 32px;\n",
              "      padding: 0 0 0 0;\n",
              "      width: 32px;\n",
              "    }\n",
              "\n",
              "    .colab-df-convert:hover {\n",
              "      background-color: #E2EBFA;\n",
              "      box-shadow: 0px 1px 2px rgba(60, 64, 67, 0.3), 0px 1px 3px 1px rgba(60, 64, 67, 0.15);\n",
              "      fill: #174EA6;\n",
              "    }\n",
              "\n",
              "    .colab-df-buttons div {\n",
              "      margin-bottom: 4px;\n",
              "    }\n",
              "\n",
              "    [theme=dark] .colab-df-convert {\n",
              "      background-color: #3B4455;\n",
              "      fill: #D2E3FC;\n",
              "    }\n",
              "\n",
              "    [theme=dark] .colab-df-convert:hover {\n",
              "      background-color: #434B5C;\n",
              "      box-shadow: 0px 1px 3px 1px rgba(0, 0, 0, 0.15);\n",
              "      filter: drop-shadow(0px 1px 2px rgba(0, 0, 0, 0.3));\n",
              "      fill: #FFFFFF;\n",
              "    }\n",
              "  </style>\n",
              "\n",
              "    <script>\n",
              "      const buttonEl =\n",
              "        document.querySelector('#df-2f1c510b-2e3f-496a-a0d5-d50da809c9d2 button.colab-df-convert');\n",
              "      buttonEl.style.display =\n",
              "        google.colab.kernel.accessAllowed ? 'block' : 'none';\n",
              "\n",
              "      async function convertToInteractive(key) {\n",
              "        const element = document.querySelector('#df-2f1c510b-2e3f-496a-a0d5-d50da809c9d2');\n",
              "        const dataTable =\n",
              "          await google.colab.kernel.invokeFunction('convertToInteractive',\n",
              "                                                    [key], {});\n",
              "        if (!dataTable) return;\n",
              "\n",
              "        const docLinkHtml = 'Like what you see? Visit the ' +\n",
              "          '<a target=\"_blank\" href=https://colab.research.google.com/notebooks/data_table.ipynb>data table notebook</a>'\n",
              "          + ' to learn more about interactive tables.';\n",
              "        element.innerHTML = '';\n",
              "        dataTable['output_type'] = 'display_data';\n",
              "        await google.colab.output.renderOutput(dataTable, element);\n",
              "        const docLink = document.createElement('div');\n",
              "        docLink.innerHTML = docLinkHtml;\n",
              "        element.appendChild(docLink);\n",
              "      }\n",
              "    </script>\n",
              "  </div>\n",
              "\n",
              "\n",
              "<div id=\"df-0746ee9a-f515-4c57-91dc-40f8ac36774b\">\n",
              "  <button class=\"colab-df-quickchart\" onclick=\"quickchart('df-0746ee9a-f515-4c57-91dc-40f8ac36774b')\"\n",
              "            title=\"Suggest charts\"\n",
              "            style=\"display:none;\">\n",
              "\n",
              "<svg xmlns=\"http://www.w3.org/2000/svg\" height=\"24px\"viewBox=\"0 0 24 24\"\n",
              "     width=\"24px\">\n",
              "    <g>\n",
              "        <path d=\"M19 3H5c-1.1 0-2 .9-2 2v14c0 1.1.9 2 2 2h14c1.1 0 2-.9 2-2V5c0-1.1-.9-2-2-2zM9 17H7v-7h2v7zm4 0h-2V7h2v10zm4 0h-2v-4h2v4z\"/>\n",
              "    </g>\n",
              "</svg>\n",
              "  </button>\n",
              "\n",
              "<style>\n",
              "  .colab-df-quickchart {\n",
              "      --bg-color: #E8F0FE;\n",
              "      --fill-color: #1967D2;\n",
              "      --hover-bg-color: #E2EBFA;\n",
              "      --hover-fill-color: #174EA6;\n",
              "      --disabled-fill-color: #AAA;\n",
              "      --disabled-bg-color: #DDD;\n",
              "  }\n",
              "\n",
              "  [theme=dark] .colab-df-quickchart {\n",
              "      --bg-color: #3B4455;\n",
              "      --fill-color: #D2E3FC;\n",
              "      --hover-bg-color: #434B5C;\n",
              "      --hover-fill-color: #FFFFFF;\n",
              "      --disabled-bg-color: #3B4455;\n",
              "      --disabled-fill-color: #666;\n",
              "  }\n",
              "\n",
              "  .colab-df-quickchart {\n",
              "    background-color: var(--bg-color);\n",
              "    border: none;\n",
              "    border-radius: 50%;\n",
              "    cursor: pointer;\n",
              "    display: none;\n",
              "    fill: var(--fill-color);\n",
              "    height: 32px;\n",
              "    padding: 0;\n",
              "    width: 32px;\n",
              "  }\n",
              "\n",
              "  .colab-df-quickchart:hover {\n",
              "    background-color: var(--hover-bg-color);\n",
              "    box-shadow: 0 1px 2px rgba(60, 64, 67, 0.3), 0 1px 3px 1px rgba(60, 64, 67, 0.15);\n",
              "    fill: var(--button-hover-fill-color);\n",
              "  }\n",
              "\n",
              "  .colab-df-quickchart-complete:disabled,\n",
              "  .colab-df-quickchart-complete:disabled:hover {\n",
              "    background-color: var(--disabled-bg-color);\n",
              "    fill: var(--disabled-fill-color);\n",
              "    box-shadow: none;\n",
              "  }\n",
              "\n",
              "  .colab-df-spinner {\n",
              "    border: 2px solid var(--fill-color);\n",
              "    border-color: transparent;\n",
              "    border-bottom-color: var(--fill-color);\n",
              "    animation:\n",
              "      spin 1s steps(1) infinite;\n",
              "  }\n",
              "\n",
              "  @keyframes spin {\n",
              "    0% {\n",
              "      border-color: transparent;\n",
              "      border-bottom-color: var(--fill-color);\n",
              "      border-left-color: var(--fill-color);\n",
              "    }\n",
              "    20% {\n",
              "      border-color: transparent;\n",
              "      border-left-color: var(--fill-color);\n",
              "      border-top-color: var(--fill-color);\n",
              "    }\n",
              "    30% {\n",
              "      border-color: transparent;\n",
              "      border-left-color: var(--fill-color);\n",
              "      border-top-color: var(--fill-color);\n",
              "      border-right-color: var(--fill-color);\n",
              "    }\n",
              "    40% {\n",
              "      border-color: transparent;\n",
              "      border-right-color: var(--fill-color);\n",
              "      border-top-color: var(--fill-color);\n",
              "    }\n",
              "    60% {\n",
              "      border-color: transparent;\n",
              "      border-right-color: var(--fill-color);\n",
              "    }\n",
              "    80% {\n",
              "      border-color: transparent;\n",
              "      border-right-color: var(--fill-color);\n",
              "      border-bottom-color: var(--fill-color);\n",
              "    }\n",
              "    90% {\n",
              "      border-color: transparent;\n",
              "      border-bottom-color: var(--fill-color);\n",
              "    }\n",
              "  }\n",
              "</style>\n",
              "\n",
              "  <script>\n",
              "    async function quickchart(key) {\n",
              "      const quickchartButtonEl =\n",
              "        document.querySelector('#' + key + ' button');\n",
              "      quickchartButtonEl.disabled = true;  // To prevent multiple clicks.\n",
              "      quickchartButtonEl.classList.add('colab-df-spinner');\n",
              "      try {\n",
              "        const charts = await google.colab.kernel.invokeFunction(\n",
              "            'suggestCharts', [key], {});\n",
              "      } catch (error) {\n",
              "        console.error('Error during call to suggestCharts:', error);\n",
              "      }\n",
              "      quickchartButtonEl.classList.remove('colab-df-spinner');\n",
              "      quickchartButtonEl.classList.add('colab-df-quickchart-complete');\n",
              "    }\n",
              "    (() => {\n",
              "      let quickchartButtonEl =\n",
              "        document.querySelector('#df-0746ee9a-f515-4c57-91dc-40f8ac36774b button');\n",
              "      quickchartButtonEl.style.display =\n",
              "        google.colab.kernel.accessAllowed ? 'block' : 'none';\n",
              "    })();\n",
              "  </script>\n",
              "</div>\n",
              "    </div>\n",
              "  </div>\n"
            ],
            "application/vnd.google.colaboratory.intrinsic+json": {
              "type": "dataframe",
              "variable_name": "data",
              "summary": "{\n  \"name\": \"data\",\n  \"rows\": 30,\n  \"fields\": [\n    {\n      \"column\": \"Unnamed: 0\",\n      \"properties\": {\n        \"dtype\": \"number\",\n        \"std\": 8,\n        \"min\": 1,\n        \"max\": 30,\n        \"num_unique_values\": 30,\n        \"samples\": [\n          28,\n          16,\n          24\n        ],\n        \"semantic_type\": \"\",\n        \"description\": \"\"\n      }\n    },\n    {\n      \"column\": \"N\",\n      \"properties\": {\n        \"dtype\": \"number\",\n        \"std\": 1,\n        \"min\": 3,\n        \"max\": 6,\n        \"num_unique_values\": 4,\n        \"samples\": [\n          3,\n          5,\n          4\n        ],\n        \"semantic_type\": \"\",\n        \"description\": \"\"\n      }\n    },\n    {\n      \"column\": \"t, sec\",\n      \"properties\": {\n        \"dtype\": \"number\",\n        \"std\": 37,\n        \"min\": 173,\n        \"max\": 287,\n        \"num_unique_values\": 26,\n        \"samples\": [\n          229,\n          278,\n          268\n        ],\n        \"semantic_type\": \"\",\n        \"description\": \"\"\n      }\n    },\n    {\n      \"column\": \"sigma_t, sec\",\n      \"properties\": {\n        \"dtype\": \"number\",\n        \"std\": 0,\n        \"min\": 1,\n        \"max\": 1,\n        \"num_unique_values\": 1,\n        \"samples\": [\n          1\n        ],\n        \"semantic_type\": \"\",\n        \"description\": \"\"\n      }\n    },\n    {\n      \"column\": \"mass, gramm\",\n      \"properties\": {\n        \"dtype\": \"number\",\n        \"std\": 159.32688872649328,\n        \"min\": 142.0,\n        \"max\": 614.0,\n        \"num_unique_values\": 6,\n        \"samples\": [\n          180.0\n        ],\n        \"semantic_type\": \"\",\n        \"description\": \"\"\n      }\n    },\n    {\n      \"column\": \"length, cm\",\n      \"properties\": {\n        \"dtype\": \"number\",\n        \"std\": 6.010049055970542,\n        \"min\": 108.0,\n        \"max\": 122.0,\n        \"num_unique_values\": 5,\n        \"samples\": [\n          108.0\n        ],\n        \"semantic_type\": \"\",\n        \"description\": \"\"\n      }\n    },\n    {\n      \"column\": \"phi, rad\",\n      \"properties\": {\n        \"dtype\": \"number\",\n        \"std\": 0.00858359836662575,\n        \"min\": 0.14,\n        \"max\": 0.18,\n        \"num_unique_values\": 5,\n        \"samples\": [\n          0.18\n        ],\n        \"semantic_type\": \"\",\n        \"description\": \"\"\n      }\n    }\n  ]\n}"
            }
          },
          "metadata": {},
          "execution_count": 49
        }
      ],
      "source": [
        "# YOUR CODE HERE\n",
        "data = pd.read_csv('https://drive.google.com/uc?id=1SbLR6R16obqLewUTnX1CAAjQTrVXh2Vq&export=download')\n",
        "data_frame = pd.DataFrame(data)\n",
        "data.head()"
      ]
    },
    {
      "cell_type": "markdown",
      "source": [
        "## 2.2 Работа с данными"
      ],
      "metadata": {
        "id": "rjZD-cOw7nms"
      }
    },
    {
      "cell_type": "markdown",
      "metadata": {
        "id": "DIUhNNUQxDQ1"
      },
      "source": [
        "Колонки в датафрейме следующие:\n",
        "\n",
        "N - количество полных оборотов гироскопа в эксперименте;\n",
        "\n",
        "t, в секундах - время эксперимента;\n",
        "\n",
        "$\\sigma_t$ - погрешность измерения времени;\n",
        "\n",
        "mass - масса груза, подвешенного к рычагу на гироскопе;\n",
        "\n",
        "length - длина плеча вышеупомянутого рычага;\n",
        "\n",
        "phi - угол в радианах, на который опустился рычаг за время эксперимента. Понадобится, чтобы оценить влияние силы трения в гироскопе на прецессию."
      ]
    },
    {
      "cell_type": "markdown",
      "metadata": {
        "id": "fnTCoIqdyDVF"
      },
      "source": [
        "Так как физики любят оперировать величинами адекватной размерности, нужно перевести колонки с массой в килограммы, а с длиной - в метры. Затем переименуйте все колонки так, чтобы в них не осталось упоминаний о размерности - только названия физических величин."
      ]
    },
    {
      "cell_type": "code",
      "execution_count": 63,
      "metadata": {
        "id": "SidmSVzMyW_U",
        "colab": {
          "base_uri": "https://localhost:8080/",
          "height": 206
        },
        "outputId": "be20535b-d001-4baa-9264-4155a9523513"
      },
      "outputs": [
        {
          "output_type": "execute_result",
          "data": {
            "text/plain": [
              "   Unnamed: 0  N    t  sigma_t  mass  length   phi\n",
              "0           1  4  268        1  0.18    1.21  0.16\n",
              "1           2  4  264        1  0.18    1.21  0.18\n",
              "2           3  4  275        1  0.18    1.21  0.16\n",
              "3           4  4  263        1  0.18    1.21  0.17\n",
              "4           5  4  267        1  0.18    1.21  0.17"
            ],
            "text/html": [
              "\n",
              "  <div id=\"df-85340c79-8326-49ac-affb-75690f54a5e4\" class=\"colab-df-container\">\n",
              "    <div>\n",
              "<style scoped>\n",
              "    .dataframe tbody tr th:only-of-type {\n",
              "        vertical-align: middle;\n",
              "    }\n",
              "\n",
              "    .dataframe tbody tr th {\n",
              "        vertical-align: top;\n",
              "    }\n",
              "\n",
              "    .dataframe thead th {\n",
              "        text-align: right;\n",
              "    }\n",
              "</style>\n",
              "<table border=\"1\" class=\"dataframe\">\n",
              "  <thead>\n",
              "    <tr style=\"text-align: right;\">\n",
              "      <th></th>\n",
              "      <th>Unnamed: 0</th>\n",
              "      <th>N</th>\n",
              "      <th>t</th>\n",
              "      <th>sigma_t</th>\n",
              "      <th>mass</th>\n",
              "      <th>length</th>\n",
              "      <th>phi</th>\n",
              "    </tr>\n",
              "  </thead>\n",
              "  <tbody>\n",
              "    <tr>\n",
              "      <th>0</th>\n",
              "      <td>1</td>\n",
              "      <td>4</td>\n",
              "      <td>268</td>\n",
              "      <td>1</td>\n",
              "      <td>0.18</td>\n",
              "      <td>1.21</td>\n",
              "      <td>0.16</td>\n",
              "    </tr>\n",
              "    <tr>\n",
              "      <th>1</th>\n",
              "      <td>2</td>\n",
              "      <td>4</td>\n",
              "      <td>264</td>\n",
              "      <td>1</td>\n",
              "      <td>0.18</td>\n",
              "      <td>1.21</td>\n",
              "      <td>0.18</td>\n",
              "    </tr>\n",
              "    <tr>\n",
              "      <th>2</th>\n",
              "      <td>3</td>\n",
              "      <td>4</td>\n",
              "      <td>275</td>\n",
              "      <td>1</td>\n",
              "      <td>0.18</td>\n",
              "      <td>1.21</td>\n",
              "      <td>0.16</td>\n",
              "    </tr>\n",
              "    <tr>\n",
              "      <th>3</th>\n",
              "      <td>4</td>\n",
              "      <td>4</td>\n",
              "      <td>263</td>\n",
              "      <td>1</td>\n",
              "      <td>0.18</td>\n",
              "      <td>1.21</td>\n",
              "      <td>0.17</td>\n",
              "    </tr>\n",
              "    <tr>\n",
              "      <th>4</th>\n",
              "      <td>5</td>\n",
              "      <td>4</td>\n",
              "      <td>267</td>\n",
              "      <td>1</td>\n",
              "      <td>0.18</td>\n",
              "      <td>1.21</td>\n",
              "      <td>0.17</td>\n",
              "    </tr>\n",
              "  </tbody>\n",
              "</table>\n",
              "</div>\n",
              "    <div class=\"colab-df-buttons\">\n",
              "\n",
              "  <div class=\"colab-df-container\">\n",
              "    <button class=\"colab-df-convert\" onclick=\"convertToInteractive('df-85340c79-8326-49ac-affb-75690f54a5e4')\"\n",
              "            title=\"Convert this dataframe to an interactive table.\"\n",
              "            style=\"display:none;\">\n",
              "\n",
              "  <svg xmlns=\"http://www.w3.org/2000/svg\" height=\"24px\" viewBox=\"0 -960 960 960\">\n",
              "    <path d=\"M120-120v-720h720v720H120Zm60-500h600v-160H180v160Zm220 220h160v-160H400v160Zm0 220h160v-160H400v160ZM180-400h160v-160H180v160Zm440 0h160v-160H620v160ZM180-180h160v-160H180v160Zm440 0h160v-160H620v160Z\"/>\n",
              "  </svg>\n",
              "    </button>\n",
              "\n",
              "  <style>\n",
              "    .colab-df-container {\n",
              "      display:flex;\n",
              "      gap: 12px;\n",
              "    }\n",
              "\n",
              "    .colab-df-convert {\n",
              "      background-color: #E8F0FE;\n",
              "      border: none;\n",
              "      border-radius: 50%;\n",
              "      cursor: pointer;\n",
              "      display: none;\n",
              "      fill: #1967D2;\n",
              "      height: 32px;\n",
              "      padding: 0 0 0 0;\n",
              "      width: 32px;\n",
              "    }\n",
              "\n",
              "    .colab-df-convert:hover {\n",
              "      background-color: #E2EBFA;\n",
              "      box-shadow: 0px 1px 2px rgba(60, 64, 67, 0.3), 0px 1px 3px 1px rgba(60, 64, 67, 0.15);\n",
              "      fill: #174EA6;\n",
              "    }\n",
              "\n",
              "    .colab-df-buttons div {\n",
              "      margin-bottom: 4px;\n",
              "    }\n",
              "\n",
              "    [theme=dark] .colab-df-convert {\n",
              "      background-color: #3B4455;\n",
              "      fill: #D2E3FC;\n",
              "    }\n",
              "\n",
              "    [theme=dark] .colab-df-convert:hover {\n",
              "      background-color: #434B5C;\n",
              "      box-shadow: 0px 1px 3px 1px rgba(0, 0, 0, 0.15);\n",
              "      filter: drop-shadow(0px 1px 2px rgba(0, 0, 0, 0.3));\n",
              "      fill: #FFFFFF;\n",
              "    }\n",
              "  </style>\n",
              "\n",
              "    <script>\n",
              "      const buttonEl =\n",
              "        document.querySelector('#df-85340c79-8326-49ac-affb-75690f54a5e4 button.colab-df-convert');\n",
              "      buttonEl.style.display =\n",
              "        google.colab.kernel.accessAllowed ? 'block' : 'none';\n",
              "\n",
              "      async function convertToInteractive(key) {\n",
              "        const element = document.querySelector('#df-85340c79-8326-49ac-affb-75690f54a5e4');\n",
              "        const dataTable =\n",
              "          await google.colab.kernel.invokeFunction('convertToInteractive',\n",
              "                                                    [key], {});\n",
              "        if (!dataTable) return;\n",
              "\n",
              "        const docLinkHtml = 'Like what you see? Visit the ' +\n",
              "          '<a target=\"_blank\" href=https://colab.research.google.com/notebooks/data_table.ipynb>data table notebook</a>'\n",
              "          + ' to learn more about interactive tables.';\n",
              "        element.innerHTML = '';\n",
              "        dataTable['output_type'] = 'display_data';\n",
              "        await google.colab.output.renderOutput(dataTable, element);\n",
              "        const docLink = document.createElement('div');\n",
              "        docLink.innerHTML = docLinkHtml;\n",
              "        element.appendChild(docLink);\n",
              "      }\n",
              "    </script>\n",
              "  </div>\n",
              "\n",
              "\n",
              "<div id=\"df-dc52f620-5044-499f-91eb-9d6280b6b363\">\n",
              "  <button class=\"colab-df-quickchart\" onclick=\"quickchart('df-dc52f620-5044-499f-91eb-9d6280b6b363')\"\n",
              "            title=\"Suggest charts\"\n",
              "            style=\"display:none;\">\n",
              "\n",
              "<svg xmlns=\"http://www.w3.org/2000/svg\" height=\"24px\"viewBox=\"0 0 24 24\"\n",
              "     width=\"24px\">\n",
              "    <g>\n",
              "        <path d=\"M19 3H5c-1.1 0-2 .9-2 2v14c0 1.1.9 2 2 2h14c1.1 0 2-.9 2-2V5c0-1.1-.9-2-2-2zM9 17H7v-7h2v7zm4 0h-2V7h2v10zm4 0h-2v-4h2v4z\"/>\n",
              "    </g>\n",
              "</svg>\n",
              "  </button>\n",
              "\n",
              "<style>\n",
              "  .colab-df-quickchart {\n",
              "      --bg-color: #E8F0FE;\n",
              "      --fill-color: #1967D2;\n",
              "      --hover-bg-color: #E2EBFA;\n",
              "      --hover-fill-color: #174EA6;\n",
              "      --disabled-fill-color: #AAA;\n",
              "      --disabled-bg-color: #DDD;\n",
              "  }\n",
              "\n",
              "  [theme=dark] .colab-df-quickchart {\n",
              "      --bg-color: #3B4455;\n",
              "      --fill-color: #D2E3FC;\n",
              "      --hover-bg-color: #434B5C;\n",
              "      --hover-fill-color: #FFFFFF;\n",
              "      --disabled-bg-color: #3B4455;\n",
              "      --disabled-fill-color: #666;\n",
              "  }\n",
              "\n",
              "  .colab-df-quickchart {\n",
              "    background-color: var(--bg-color);\n",
              "    border: none;\n",
              "    border-radius: 50%;\n",
              "    cursor: pointer;\n",
              "    display: none;\n",
              "    fill: var(--fill-color);\n",
              "    height: 32px;\n",
              "    padding: 0;\n",
              "    width: 32px;\n",
              "  }\n",
              "\n",
              "  .colab-df-quickchart:hover {\n",
              "    background-color: var(--hover-bg-color);\n",
              "    box-shadow: 0 1px 2px rgba(60, 64, 67, 0.3), 0 1px 3px 1px rgba(60, 64, 67, 0.15);\n",
              "    fill: var(--button-hover-fill-color);\n",
              "  }\n",
              "\n",
              "  .colab-df-quickchart-complete:disabled,\n",
              "  .colab-df-quickchart-complete:disabled:hover {\n",
              "    background-color: var(--disabled-bg-color);\n",
              "    fill: var(--disabled-fill-color);\n",
              "    box-shadow: none;\n",
              "  }\n",
              "\n",
              "  .colab-df-spinner {\n",
              "    border: 2px solid var(--fill-color);\n",
              "    border-color: transparent;\n",
              "    border-bottom-color: var(--fill-color);\n",
              "    animation:\n",
              "      spin 1s steps(1) infinite;\n",
              "  }\n",
              "\n",
              "  @keyframes spin {\n",
              "    0% {\n",
              "      border-color: transparent;\n",
              "      border-bottom-color: var(--fill-color);\n",
              "      border-left-color: var(--fill-color);\n",
              "    }\n",
              "    20% {\n",
              "      border-color: transparent;\n",
              "      border-left-color: var(--fill-color);\n",
              "      border-top-color: var(--fill-color);\n",
              "    }\n",
              "    30% {\n",
              "      border-color: transparent;\n",
              "      border-left-color: var(--fill-color);\n",
              "      border-top-color: var(--fill-color);\n",
              "      border-right-color: var(--fill-color);\n",
              "    }\n",
              "    40% {\n",
              "      border-color: transparent;\n",
              "      border-right-color: var(--fill-color);\n",
              "      border-top-color: var(--fill-color);\n",
              "    }\n",
              "    60% {\n",
              "      border-color: transparent;\n",
              "      border-right-color: var(--fill-color);\n",
              "    }\n",
              "    80% {\n",
              "      border-color: transparent;\n",
              "      border-right-color: var(--fill-color);\n",
              "      border-bottom-color: var(--fill-color);\n",
              "    }\n",
              "    90% {\n",
              "      border-color: transparent;\n",
              "      border-bottom-color: var(--fill-color);\n",
              "    }\n",
              "  }\n",
              "</style>\n",
              "\n",
              "  <script>\n",
              "    async function quickchart(key) {\n",
              "      const quickchartButtonEl =\n",
              "        document.querySelector('#' + key + ' button');\n",
              "      quickchartButtonEl.disabled = true;  // To prevent multiple clicks.\n",
              "      quickchartButtonEl.classList.add('colab-df-spinner');\n",
              "      try {\n",
              "        const charts = await google.colab.kernel.invokeFunction(\n",
              "            'suggestCharts', [key], {});\n",
              "      } catch (error) {\n",
              "        console.error('Error during call to suggestCharts:', error);\n",
              "      }\n",
              "      quickchartButtonEl.classList.remove('colab-df-spinner');\n",
              "      quickchartButtonEl.classList.add('colab-df-quickchart-complete');\n",
              "    }\n",
              "    (() => {\n",
              "      let quickchartButtonEl =\n",
              "        document.querySelector('#df-dc52f620-5044-499f-91eb-9d6280b6b363 button');\n",
              "      quickchartButtonEl.style.display =\n",
              "        google.colab.kernel.accessAllowed ? 'block' : 'none';\n",
              "    })();\n",
              "  </script>\n",
              "</div>\n",
              "    </div>\n",
              "  </div>\n"
            ],
            "application/vnd.google.colaboratory.intrinsic+json": {
              "type": "dataframe",
              "variable_name": "data",
              "summary": "{\n  \"name\": \"data\",\n  \"rows\": 30,\n  \"fields\": [\n    {\n      \"column\": \"Unnamed: 0\",\n      \"properties\": {\n        \"dtype\": \"number\",\n        \"std\": 8,\n        \"min\": 1,\n        \"max\": 30,\n        \"num_unique_values\": 30,\n        \"samples\": [\n          28,\n          16,\n          24\n        ],\n        \"semantic_type\": \"\",\n        \"description\": \"\"\n      }\n    },\n    {\n      \"column\": \"N\",\n      \"properties\": {\n        \"dtype\": \"number\",\n        \"std\": 1,\n        \"min\": 3,\n        \"max\": 6,\n        \"num_unique_values\": 4,\n        \"samples\": [\n          3,\n          5,\n          4\n        ],\n        \"semantic_type\": \"\",\n        \"description\": \"\"\n      }\n    },\n    {\n      \"column\": \"t\",\n      \"properties\": {\n        \"dtype\": \"number\",\n        \"std\": 37,\n        \"min\": 173,\n        \"max\": 287,\n        \"num_unique_values\": 26,\n        \"samples\": [\n          229,\n          278,\n          268\n        ],\n        \"semantic_type\": \"\",\n        \"description\": \"\"\n      }\n    },\n    {\n      \"column\": \"sigma_t\",\n      \"properties\": {\n        \"dtype\": \"number\",\n        \"std\": 0,\n        \"min\": 1,\n        \"max\": 1,\n        \"num_unique_values\": 1,\n        \"samples\": [\n          1\n        ],\n        \"semantic_type\": \"\",\n        \"description\": \"\"\n      }\n    },\n    {\n      \"column\": \"mass\",\n      \"properties\": {\n        \"dtype\": \"number\",\n        \"std\": 0.15932688872649325,\n        \"min\": 0.142,\n        \"max\": 0.614,\n        \"num_unique_values\": 6,\n        \"samples\": [\n          0.18\n        ],\n        \"semantic_type\": \"\",\n        \"description\": \"\"\n      }\n    },\n    {\n      \"column\": \"length\",\n      \"properties\": {\n        \"dtype\": \"number\",\n        \"std\": 0.06010049055970537,\n        \"min\": 1.08,\n        \"max\": 1.22,\n        \"num_unique_values\": 5,\n        \"samples\": [\n          1.08\n        ],\n        \"semantic_type\": \"\",\n        \"description\": \"\"\n      }\n    },\n    {\n      \"column\": \"phi\",\n      \"properties\": {\n        \"dtype\": \"number\",\n        \"std\": 0.00858359836662575,\n        \"min\": 0.14,\n        \"max\": 0.18,\n        \"num_unique_values\": 5,\n        \"samples\": [\n          0.18\n        ],\n        \"semantic_type\": \"\",\n        \"description\": \"\"\n      }\n    }\n  ]\n}"
            }
          },
          "metadata": {},
          "execution_count": 63
        }
      ],
      "source": [
        "data = pd.read_csv('https://drive.google.com/uc?id=1SbLR6R16obqLewUTnX1CAAjQTrVXh2Vq&export=download')\n",
        "\n",
        "data.rename(columns={\n",
        "    'mass, gramm': 'mass',\n",
        "    'length, cm': 'length',\n",
        "    't, sec': 't',\n",
        "    'phi, rad': 'phi',\n",
        "    'sigma_t, sec': 'sigma_t'\n",
        "}, inplace=True)\n",
        "\n",
        "\n",
        "data['mass'] = data['mass'] / 1000\n",
        "data['length'] = data['length'] / 100\n",
        "\n",
        "assert data.mass.mean() < 0.3\n",
        "assert np.allclose(data.length.mean(), 1.155)\n",
        "\n",
        "\n",
        "data.head()"
      ]
    },
    {
      "cell_type": "markdown",
      "metadata": {
        "id": "OQ-9VXH8l3wP"
      },
      "source": [
        "Добавьте в датафрейм колонки с соответствующими именами и значениями, вычисленными по формулам:\n",
        "\n",
        "`omega`: $\\Omega = 2 \\pi \\cdot \\frac{N}{t}$\n",
        "\n",
        "`sigma_omega`: $\\sigma_{\\Omega} = \\Omega / t \\cdot \\sigma_t$\n",
        "\n",
        "`omega_down`: $\\Omega_{down} = \\varphi / t$\n",
        "\n",
        "`sigma_down`: $\\Omega_{down} \\cdot \\sigma_t / t$\n",
        "\n",
        "`momentum`: $M = m \\cdot g \\cdot l$ (`g = 9.8 м/с^2`)\n",
        "\n",
        "`momentum_down`: $M_{down} = m \\cdot \\frac{\\varphi}{t^2} \\cdot l^2$\n",
        "\n",
        "`sigma_momentum`: $\\sigma_{M} = M_{down} \\cdot 2 \\cdot \\frac{\\sigma_t}{t}$\n"
      ]
    },
    {
      "cell_type": "code",
      "execution_count": 74,
      "metadata": {
        "id": "32p3uQkhHxu1",
        "colab": {
          "base_uri": "https://localhost:8080/",
          "height": 206
        },
        "outputId": "dbb14b93-1d91-4242-964c-27a88167d624"
      },
      "outputs": [
        {
          "output_type": "execute_result",
          "data": {
            "text/plain": [
              "   Unnamed: 0  N    t  sigma_t  mass  length   phi     omega  sigma_omega  \\\n",
              "0           1  4  268        1  0.18    1.21  0.16  0.093779     0.000350   \n",
              "1           2  4  264        1  0.18    1.21  0.18  0.095200     0.000361   \n",
              "2           3  4  275        1  0.18    1.21  0.16  0.091392     0.000332   \n",
              "3           4  4  263        1  0.18    1.21  0.17  0.095562     0.000363   \n",
              "4           5  4  267        1  0.18    1.21  0.17  0.094130     0.000353   \n",
              "\n",
              "   omega_down  sigma_down  momentum  momentum_down  sigma_momentum  \n",
              "0    0.000597    0.000002   2.13444   5.870751e-07    4.381157e-09  \n",
              "1    0.000682    0.000003   2.13444   6.806250e-07    5.156250e-09  \n",
              "2    0.000582    0.000002   2.13444   5.575680e-07    4.055040e-09  \n",
              "3    0.000646    0.000002   2.13444   6.477101e-07    4.925552e-09  \n",
              "4    0.000637    0.000002   2.13444   6.284484e-07    4.707479e-09  "
            ],
            "text/html": [
              "\n",
              "  <div id=\"df-dca291fd-59a3-494c-90bd-d184b5dd786e\" class=\"colab-df-container\">\n",
              "    <div>\n",
              "<style scoped>\n",
              "    .dataframe tbody tr th:only-of-type {\n",
              "        vertical-align: middle;\n",
              "    }\n",
              "\n",
              "    .dataframe tbody tr th {\n",
              "        vertical-align: top;\n",
              "    }\n",
              "\n",
              "    .dataframe thead th {\n",
              "        text-align: right;\n",
              "    }\n",
              "</style>\n",
              "<table border=\"1\" class=\"dataframe\">\n",
              "  <thead>\n",
              "    <tr style=\"text-align: right;\">\n",
              "      <th></th>\n",
              "      <th>Unnamed: 0</th>\n",
              "      <th>N</th>\n",
              "      <th>t</th>\n",
              "      <th>sigma_t</th>\n",
              "      <th>mass</th>\n",
              "      <th>length</th>\n",
              "      <th>phi</th>\n",
              "      <th>omega</th>\n",
              "      <th>sigma_omega</th>\n",
              "      <th>omega_down</th>\n",
              "      <th>sigma_down</th>\n",
              "      <th>momentum</th>\n",
              "      <th>momentum_down</th>\n",
              "      <th>sigma_momentum</th>\n",
              "    </tr>\n",
              "  </thead>\n",
              "  <tbody>\n",
              "    <tr>\n",
              "      <th>0</th>\n",
              "      <td>1</td>\n",
              "      <td>4</td>\n",
              "      <td>268</td>\n",
              "      <td>1</td>\n",
              "      <td>0.18</td>\n",
              "      <td>1.21</td>\n",
              "      <td>0.16</td>\n",
              "      <td>0.093779</td>\n",
              "      <td>0.000350</td>\n",
              "      <td>0.000597</td>\n",
              "      <td>0.000002</td>\n",
              "      <td>2.13444</td>\n",
              "      <td>5.870751e-07</td>\n",
              "      <td>4.381157e-09</td>\n",
              "    </tr>\n",
              "    <tr>\n",
              "      <th>1</th>\n",
              "      <td>2</td>\n",
              "      <td>4</td>\n",
              "      <td>264</td>\n",
              "      <td>1</td>\n",
              "      <td>0.18</td>\n",
              "      <td>1.21</td>\n",
              "      <td>0.18</td>\n",
              "      <td>0.095200</td>\n",
              "      <td>0.000361</td>\n",
              "      <td>0.000682</td>\n",
              "      <td>0.000003</td>\n",
              "      <td>2.13444</td>\n",
              "      <td>6.806250e-07</td>\n",
              "      <td>5.156250e-09</td>\n",
              "    </tr>\n",
              "    <tr>\n",
              "      <th>2</th>\n",
              "      <td>3</td>\n",
              "      <td>4</td>\n",
              "      <td>275</td>\n",
              "      <td>1</td>\n",
              "      <td>0.18</td>\n",
              "      <td>1.21</td>\n",
              "      <td>0.16</td>\n",
              "      <td>0.091392</td>\n",
              "      <td>0.000332</td>\n",
              "      <td>0.000582</td>\n",
              "      <td>0.000002</td>\n",
              "      <td>2.13444</td>\n",
              "      <td>5.575680e-07</td>\n",
              "      <td>4.055040e-09</td>\n",
              "    </tr>\n",
              "    <tr>\n",
              "      <th>3</th>\n",
              "      <td>4</td>\n",
              "      <td>4</td>\n",
              "      <td>263</td>\n",
              "      <td>1</td>\n",
              "      <td>0.18</td>\n",
              "      <td>1.21</td>\n",
              "      <td>0.17</td>\n",
              "      <td>0.095562</td>\n",
              "      <td>0.000363</td>\n",
              "      <td>0.000646</td>\n",
              "      <td>0.000002</td>\n",
              "      <td>2.13444</td>\n",
              "      <td>6.477101e-07</td>\n",
              "      <td>4.925552e-09</td>\n",
              "    </tr>\n",
              "    <tr>\n",
              "      <th>4</th>\n",
              "      <td>5</td>\n",
              "      <td>4</td>\n",
              "      <td>267</td>\n",
              "      <td>1</td>\n",
              "      <td>0.18</td>\n",
              "      <td>1.21</td>\n",
              "      <td>0.17</td>\n",
              "      <td>0.094130</td>\n",
              "      <td>0.000353</td>\n",
              "      <td>0.000637</td>\n",
              "      <td>0.000002</td>\n",
              "      <td>2.13444</td>\n",
              "      <td>6.284484e-07</td>\n",
              "      <td>4.707479e-09</td>\n",
              "    </tr>\n",
              "  </tbody>\n",
              "</table>\n",
              "</div>\n",
              "    <div class=\"colab-df-buttons\">\n",
              "\n",
              "  <div class=\"colab-df-container\">\n",
              "    <button class=\"colab-df-convert\" onclick=\"convertToInteractive('df-dca291fd-59a3-494c-90bd-d184b5dd786e')\"\n",
              "            title=\"Convert this dataframe to an interactive table.\"\n",
              "            style=\"display:none;\">\n",
              "\n",
              "  <svg xmlns=\"http://www.w3.org/2000/svg\" height=\"24px\" viewBox=\"0 -960 960 960\">\n",
              "    <path d=\"M120-120v-720h720v720H120Zm60-500h600v-160H180v160Zm220 220h160v-160H400v160Zm0 220h160v-160H400v160ZM180-400h160v-160H180v160Zm440 0h160v-160H620v160ZM180-180h160v-160H180v160Zm440 0h160v-160H620v160Z\"/>\n",
              "  </svg>\n",
              "    </button>\n",
              "\n",
              "  <style>\n",
              "    .colab-df-container {\n",
              "      display:flex;\n",
              "      gap: 12px;\n",
              "    }\n",
              "\n",
              "    .colab-df-convert {\n",
              "      background-color: #E8F0FE;\n",
              "      border: none;\n",
              "      border-radius: 50%;\n",
              "      cursor: pointer;\n",
              "      display: none;\n",
              "      fill: #1967D2;\n",
              "      height: 32px;\n",
              "      padding: 0 0 0 0;\n",
              "      width: 32px;\n",
              "    }\n",
              "\n",
              "    .colab-df-convert:hover {\n",
              "      background-color: #E2EBFA;\n",
              "      box-shadow: 0px 1px 2px rgba(60, 64, 67, 0.3), 0px 1px 3px 1px rgba(60, 64, 67, 0.15);\n",
              "      fill: #174EA6;\n",
              "    }\n",
              "\n",
              "    .colab-df-buttons div {\n",
              "      margin-bottom: 4px;\n",
              "    }\n",
              "\n",
              "    [theme=dark] .colab-df-convert {\n",
              "      background-color: #3B4455;\n",
              "      fill: #D2E3FC;\n",
              "    }\n",
              "\n",
              "    [theme=dark] .colab-df-convert:hover {\n",
              "      background-color: #434B5C;\n",
              "      box-shadow: 0px 1px 3px 1px rgba(0, 0, 0, 0.15);\n",
              "      filter: drop-shadow(0px 1px 2px rgba(0, 0, 0, 0.3));\n",
              "      fill: #FFFFFF;\n",
              "    }\n",
              "  </style>\n",
              "\n",
              "    <script>\n",
              "      const buttonEl =\n",
              "        document.querySelector('#df-dca291fd-59a3-494c-90bd-d184b5dd786e button.colab-df-convert');\n",
              "      buttonEl.style.display =\n",
              "        google.colab.kernel.accessAllowed ? 'block' : 'none';\n",
              "\n",
              "      async function convertToInteractive(key) {\n",
              "        const element = document.querySelector('#df-dca291fd-59a3-494c-90bd-d184b5dd786e');\n",
              "        const dataTable =\n",
              "          await google.colab.kernel.invokeFunction('convertToInteractive',\n",
              "                                                    [key], {});\n",
              "        if (!dataTable) return;\n",
              "\n",
              "        const docLinkHtml = 'Like what you see? Visit the ' +\n",
              "          '<a target=\"_blank\" href=https://colab.research.google.com/notebooks/data_table.ipynb>data table notebook</a>'\n",
              "          + ' to learn more about interactive tables.';\n",
              "        element.innerHTML = '';\n",
              "        dataTable['output_type'] = 'display_data';\n",
              "        await google.colab.output.renderOutput(dataTable, element);\n",
              "        const docLink = document.createElement('div');\n",
              "        docLink.innerHTML = docLinkHtml;\n",
              "        element.appendChild(docLink);\n",
              "      }\n",
              "    </script>\n",
              "  </div>\n",
              "\n",
              "\n",
              "<div id=\"df-7c51040a-d140-44aa-8bc8-877d998d8a08\">\n",
              "  <button class=\"colab-df-quickchart\" onclick=\"quickchart('df-7c51040a-d140-44aa-8bc8-877d998d8a08')\"\n",
              "            title=\"Suggest charts\"\n",
              "            style=\"display:none;\">\n",
              "\n",
              "<svg xmlns=\"http://www.w3.org/2000/svg\" height=\"24px\"viewBox=\"0 0 24 24\"\n",
              "     width=\"24px\">\n",
              "    <g>\n",
              "        <path d=\"M19 3H5c-1.1 0-2 .9-2 2v14c0 1.1.9 2 2 2h14c1.1 0 2-.9 2-2V5c0-1.1-.9-2-2-2zM9 17H7v-7h2v7zm4 0h-2V7h2v10zm4 0h-2v-4h2v4z\"/>\n",
              "    </g>\n",
              "</svg>\n",
              "  </button>\n",
              "\n",
              "<style>\n",
              "  .colab-df-quickchart {\n",
              "      --bg-color: #E8F0FE;\n",
              "      --fill-color: #1967D2;\n",
              "      --hover-bg-color: #E2EBFA;\n",
              "      --hover-fill-color: #174EA6;\n",
              "      --disabled-fill-color: #AAA;\n",
              "      --disabled-bg-color: #DDD;\n",
              "  }\n",
              "\n",
              "  [theme=dark] .colab-df-quickchart {\n",
              "      --bg-color: #3B4455;\n",
              "      --fill-color: #D2E3FC;\n",
              "      --hover-bg-color: #434B5C;\n",
              "      --hover-fill-color: #FFFFFF;\n",
              "      --disabled-bg-color: #3B4455;\n",
              "      --disabled-fill-color: #666;\n",
              "  }\n",
              "\n",
              "  .colab-df-quickchart {\n",
              "    background-color: var(--bg-color);\n",
              "    border: none;\n",
              "    border-radius: 50%;\n",
              "    cursor: pointer;\n",
              "    display: none;\n",
              "    fill: var(--fill-color);\n",
              "    height: 32px;\n",
              "    padding: 0;\n",
              "    width: 32px;\n",
              "  }\n",
              "\n",
              "  .colab-df-quickchart:hover {\n",
              "    background-color: var(--hover-bg-color);\n",
              "    box-shadow: 0 1px 2px rgba(60, 64, 67, 0.3), 0 1px 3px 1px rgba(60, 64, 67, 0.15);\n",
              "    fill: var(--button-hover-fill-color);\n",
              "  }\n",
              "\n",
              "  .colab-df-quickchart-complete:disabled,\n",
              "  .colab-df-quickchart-complete:disabled:hover {\n",
              "    background-color: var(--disabled-bg-color);\n",
              "    fill: var(--disabled-fill-color);\n",
              "    box-shadow: none;\n",
              "  }\n",
              "\n",
              "  .colab-df-spinner {\n",
              "    border: 2px solid var(--fill-color);\n",
              "    border-color: transparent;\n",
              "    border-bottom-color: var(--fill-color);\n",
              "    animation:\n",
              "      spin 1s steps(1) infinite;\n",
              "  }\n",
              "\n",
              "  @keyframes spin {\n",
              "    0% {\n",
              "      border-color: transparent;\n",
              "      border-bottom-color: var(--fill-color);\n",
              "      border-left-color: var(--fill-color);\n",
              "    }\n",
              "    20% {\n",
              "      border-color: transparent;\n",
              "      border-left-color: var(--fill-color);\n",
              "      border-top-color: var(--fill-color);\n",
              "    }\n",
              "    30% {\n",
              "      border-color: transparent;\n",
              "      border-left-color: var(--fill-color);\n",
              "      border-top-color: var(--fill-color);\n",
              "      border-right-color: var(--fill-color);\n",
              "    }\n",
              "    40% {\n",
              "      border-color: transparent;\n",
              "      border-right-color: var(--fill-color);\n",
              "      border-top-color: var(--fill-color);\n",
              "    }\n",
              "    60% {\n",
              "      border-color: transparent;\n",
              "      border-right-color: var(--fill-color);\n",
              "    }\n",
              "    80% {\n",
              "      border-color: transparent;\n",
              "      border-right-color: var(--fill-color);\n",
              "      border-bottom-color: var(--fill-color);\n",
              "    }\n",
              "    90% {\n",
              "      border-color: transparent;\n",
              "      border-bottom-color: var(--fill-color);\n",
              "    }\n",
              "  }\n",
              "</style>\n",
              "\n",
              "  <script>\n",
              "    async function quickchart(key) {\n",
              "      const quickchartButtonEl =\n",
              "        document.querySelector('#' + key + ' button');\n",
              "      quickchartButtonEl.disabled = true;  // To prevent multiple clicks.\n",
              "      quickchartButtonEl.classList.add('colab-df-spinner');\n",
              "      try {\n",
              "        const charts = await google.colab.kernel.invokeFunction(\n",
              "            'suggestCharts', [key], {});\n",
              "      } catch (error) {\n",
              "        console.error('Error during call to suggestCharts:', error);\n",
              "      }\n",
              "      quickchartButtonEl.classList.remove('colab-df-spinner');\n",
              "      quickchartButtonEl.classList.add('colab-df-quickchart-complete');\n",
              "    }\n",
              "    (() => {\n",
              "      let quickchartButtonEl =\n",
              "        document.querySelector('#df-7c51040a-d140-44aa-8bc8-877d998d8a08 button');\n",
              "      quickchartButtonEl.style.display =\n",
              "        google.colab.kernel.accessAllowed ? 'block' : 'none';\n",
              "    })();\n",
              "  </script>\n",
              "</div>\n",
              "    </div>\n",
              "  </div>\n"
            ],
            "application/vnd.google.colaboratory.intrinsic+json": {
              "type": "dataframe",
              "variable_name": "data",
              "summary": "{\n  \"name\": \"data\",\n  \"rows\": 30,\n  \"fields\": [\n    {\n      \"column\": \"Unnamed: 0\",\n      \"properties\": {\n        \"dtype\": \"number\",\n        \"std\": 8,\n        \"min\": 1,\n        \"max\": 30,\n        \"num_unique_values\": 30,\n        \"samples\": [\n          28,\n          16,\n          24\n        ],\n        \"semantic_type\": \"\",\n        \"description\": \"\"\n      }\n    },\n    {\n      \"column\": \"N\",\n      \"properties\": {\n        \"dtype\": \"number\",\n        \"std\": 1,\n        \"min\": 3,\n        \"max\": 6,\n        \"num_unique_values\": 4,\n        \"samples\": [\n          3,\n          5,\n          4\n        ],\n        \"semantic_type\": \"\",\n        \"description\": \"\"\n      }\n    },\n    {\n      \"column\": \"t\",\n      \"properties\": {\n        \"dtype\": \"number\",\n        \"std\": 37,\n        \"min\": 173,\n        \"max\": 287,\n        \"num_unique_values\": 26,\n        \"samples\": [\n          229,\n          278,\n          268\n        ],\n        \"semantic_type\": \"\",\n        \"description\": \"\"\n      }\n    },\n    {\n      \"column\": \"sigma_t\",\n      \"properties\": {\n        \"dtype\": \"number\",\n        \"std\": 0,\n        \"min\": 1,\n        \"max\": 1,\n        \"num_unique_values\": 1,\n        \"samples\": [\n          1\n        ],\n        \"semantic_type\": \"\",\n        \"description\": \"\"\n      }\n    },\n    {\n      \"column\": \"mass\",\n      \"properties\": {\n        \"dtype\": \"number\",\n        \"std\": 0.15932688872649325,\n        \"min\": 0.142,\n        \"max\": 0.614,\n        \"num_unique_values\": 6,\n        \"samples\": [\n          0.18\n        ],\n        \"semantic_type\": \"\",\n        \"description\": \"\"\n      }\n    },\n    {\n      \"column\": \"length\",\n      \"properties\": {\n        \"dtype\": \"number\",\n        \"std\": 0.06010049055970537,\n        \"min\": 1.08,\n        \"max\": 1.22,\n        \"num_unique_values\": 5,\n        \"samples\": [\n          1.08\n        ],\n        \"semantic_type\": \"\",\n        \"description\": \"\"\n      }\n    },\n    {\n      \"column\": \"phi\",\n      \"properties\": {\n        \"dtype\": \"number\",\n        \"std\": 0.00858359836662575,\n        \"min\": 0.14,\n        \"max\": 0.18,\n        \"num_unique_values\": 5,\n        \"samples\": [\n          0.18\n        ],\n        \"semantic_type\": \"\",\n        \"description\": \"\"\n      }\n    },\n    {\n      \"column\": \"omega\",\n      \"properties\": {\n        \"dtype\": \"number\",\n        \"std\": 0.04302959547480325,\n        \"min\": 0.06567789519699917,\n        \"max\": 0.18944277308079155,\n        \"num_unique_values\": 27,\n        \"samples\": [\n          0.08231247127309502\n        ],\n        \"semantic_type\": \"\",\n        \"description\": \"\"\n      }\n    },\n    {\n      \"column\": \"sigma_omega\",\n      \"properties\": {\n        \"dtype\": \"number\",\n        \"std\": 0.00026492810433448457,\n        \"min\": 0.0002288428404076626,\n        \"max\": 0.0009519737340743294,\n        \"num_unique_values\": 27,\n        \"samples\": [\n          0.00035944310599604813\n        ],\n        \"semantic_type\": \"\",\n        \"description\": \"\"\n      }\n    },\n    {\n      \"column\": \"omega_down\",\n      \"properties\": {\n        \"dtype\": \"number\",\n        \"std\": 0.0001312397982415917,\n        \"min\": 0.0004912280701754386,\n        \"max\": 0.0009714285714285715,\n        \"num_unique_values\": 29,\n        \"samples\": [\n          0.0008133971291866029\n        ],\n        \"semantic_type\": \"\",\n        \"description\": \"\"\n      }\n    },\n    {\n      \"column\": \"sigma_down\",\n      \"properties\": {\n        \"dtype\": \"number\",\n        \"std\": 1.1489029088420938e-06,\n        \"min\": 1.7236072637734689e-06,\n        \"max\": 5.551020408163266e-06,\n        \"num_unique_values\": 29,\n        \"samples\": [\n          3.891852292758865e-06\n        ],\n        \"semantic_type\": \"\",\n        \"description\": \"\"\n      }\n    },\n    {\n      \"column\": \"momentum\",\n      \"properties\": {\n        \"dtype\": \"number\",\n        \"std\": 1.6896421198898157,\n        \"min\": 1.6838359999999999,\n        \"max\": 6.679092000000002,\n        \"num_unique_values\": 6,\n        \"samples\": [\n          2.13444\n        ],\n        \"semantic_type\": \"\",\n        \"description\": \"\"\n      }\n    },\n    {\n      \"column\": \"momentum_down\",\n      \"properties\": {\n        \"dtype\": \"number\",\n        \"std\": 9.539146250107348e-07,\n        \"min\": 3.583417420744844e-07,\n        \"max\": 3.247559354561754e-06,\n        \"num_unique_values\": 30,\n        \"samples\": [\n          1.636997362832272e-06\n        ],\n        \"semantic_type\": \"\",\n        \"description\": \"\"\n      }\n    },\n    {\n      \"column\": \"sigma_momentum\",\n      \"properties\": {\n        \"dtype\": \"number\",\n        \"std\": 1.0444411058504502e-08,\n        \"min\": 2.514678891750768e-09,\n        \"max\": 3.263878748303271e-08,\n        \"num_unique_values\": 30,\n        \"samples\": [\n          1.5816399640891517e-08\n        ],\n        \"semantic_type\": \"\",\n        \"description\": \"\"\n      }\n    }\n  ]\n}"
            }
          },
          "metadata": {},
          "execution_count": 74
        }
      ],
      "source": [
        "g = 9.8\n",
        "\n",
        "# Вычисления\n",
        "data['omega'] = 2 * np.pi * (data['N'] / data['t'] )\n",
        "data['sigma_omega'] = (data['omega'] / data['t']) * data['sigma_t']\n",
        "data['omega_down'] = data['phi'] / data['t']\n",
        "data['sigma_down'] = data['omega_down'] * (data['sigma_t'] / data['t'])\n",
        "data['momentum'] = data['mass'] * g * data['length']\n",
        "data['momentum_down'] = data['mass'] * (data['phi'] / (data['t']**2)) * (data['length']**2)\n",
        "data['sigma_momentum'] = data['momentum_down'] * 2 * data['sigma_t'] / data['t']\n",
        "\n",
        "assert np.allclose(data.momentum_down.iloc[0], 5.892e-07)\n",
        "assert np.allclose(data.sigma_omega[0:5], 3.5e-04, atol=3e-5)\n",
        "assert np.allclose(data.sigma_momentum[0:5], 4.4e-09, atol=1e-9)\n",
        "\n",
        "data.head()"
      ]
    },
    {
      "cell_type": "markdown",
      "metadata": {
        "id": "rCFFceZCHxu1"
      },
      "source": [
        "Возможно, вы уже задались вопросом, для чего так много раз повторяются эксперименты с одной и той же массой. Чтобы получить более стабильные результаты, конечно же! Посчитайте теперь средние значения колонок `omega`, `sigma_omega`, `momentum` и`momentum_down` для каждой уникальной массы.\n",
        "\n",
        "**Подсказка:** функция groupby вам поможет. Никаких циклов!"
      ]
    },
    {
      "cell_type": "code",
      "execution_count": 75,
      "metadata": {
        "id": "LfWPdeWkHxu1",
        "colab": {
          "base_uri": "https://localhost:8080/",
          "height": 269
        },
        "outputId": "75811a6c-af70-4bc5-d0cb-69b374995ff2"
      },
      "outputs": [
        {
          "output_type": "execute_result",
          "data": {
            "text/plain": [
              "          omega  sigma_omega  momentum  momentum_down  omega_down  \\\n",
              "mass                                                                \n",
              "0.142  0.066661     0.000236  1.683836   4.108862e-07    0.000559   \n",
              "0.180  0.094012     0.000352  2.134440   6.202853e-07    0.000629   \n",
              "0.216  0.081687     0.000354  2.286144   7.755223e-07    0.000710   \n",
              "0.273  0.143300     0.000817  3.263988   2.166527e-06    0.000935   \n",
              "0.341  0.150752     0.000723  3.675980   1.577406e-06    0.000797   \n",
              "0.614  0.185194     0.000910  6.679092   3.030996e-06    0.000815   \n",
              "\n",
              "       sigma_momentum  sigma_down  \n",
              "mass                               \n",
              "0.142    2.906917e-09    0.000002  \n",
              "0.180    4.645096e-09    0.000002  \n",
              "0.216    6.721701e-09    0.000003  \n",
              "0.273    2.470970e-08    0.000005  \n",
              "0.341    1.514038e-08    0.000004  \n",
              "0.614    2.978946e-08    0.000004  "
            ],
            "text/html": [
              "\n",
              "  <div id=\"df-66f9cdbe-fa4b-469a-a902-9d491585a6ca\" class=\"colab-df-container\">\n",
              "    <div>\n",
              "<style scoped>\n",
              "    .dataframe tbody tr th:only-of-type {\n",
              "        vertical-align: middle;\n",
              "    }\n",
              "\n",
              "    .dataframe tbody tr th {\n",
              "        vertical-align: top;\n",
              "    }\n",
              "\n",
              "    .dataframe thead th {\n",
              "        text-align: right;\n",
              "    }\n",
              "</style>\n",
              "<table border=\"1\" class=\"dataframe\">\n",
              "  <thead>\n",
              "    <tr style=\"text-align: right;\">\n",
              "      <th></th>\n",
              "      <th>omega</th>\n",
              "      <th>sigma_omega</th>\n",
              "      <th>momentum</th>\n",
              "      <th>momentum_down</th>\n",
              "      <th>omega_down</th>\n",
              "      <th>sigma_momentum</th>\n",
              "      <th>sigma_down</th>\n",
              "    </tr>\n",
              "    <tr>\n",
              "      <th>mass</th>\n",
              "      <th></th>\n",
              "      <th></th>\n",
              "      <th></th>\n",
              "      <th></th>\n",
              "      <th></th>\n",
              "      <th></th>\n",
              "      <th></th>\n",
              "    </tr>\n",
              "  </thead>\n",
              "  <tbody>\n",
              "    <tr>\n",
              "      <th>0.142</th>\n",
              "      <td>0.066661</td>\n",
              "      <td>0.000236</td>\n",
              "      <td>1.683836</td>\n",
              "      <td>4.108862e-07</td>\n",
              "      <td>0.000559</td>\n",
              "      <td>2.906917e-09</td>\n",
              "      <td>0.000002</td>\n",
              "    </tr>\n",
              "    <tr>\n",
              "      <th>0.180</th>\n",
              "      <td>0.094012</td>\n",
              "      <td>0.000352</td>\n",
              "      <td>2.134440</td>\n",
              "      <td>6.202853e-07</td>\n",
              "      <td>0.000629</td>\n",
              "      <td>4.645096e-09</td>\n",
              "      <td>0.000002</td>\n",
              "    </tr>\n",
              "    <tr>\n",
              "      <th>0.216</th>\n",
              "      <td>0.081687</td>\n",
              "      <td>0.000354</td>\n",
              "      <td>2.286144</td>\n",
              "      <td>7.755223e-07</td>\n",
              "      <td>0.000710</td>\n",
              "      <td>6.721701e-09</td>\n",
              "      <td>0.000003</td>\n",
              "    </tr>\n",
              "    <tr>\n",
              "      <th>0.273</th>\n",
              "      <td>0.143300</td>\n",
              "      <td>0.000817</td>\n",
              "      <td>3.263988</td>\n",
              "      <td>2.166527e-06</td>\n",
              "      <td>0.000935</td>\n",
              "      <td>2.470970e-08</td>\n",
              "      <td>0.000005</td>\n",
              "    </tr>\n",
              "    <tr>\n",
              "      <th>0.341</th>\n",
              "      <td>0.150752</td>\n",
              "      <td>0.000723</td>\n",
              "      <td>3.675980</td>\n",
              "      <td>1.577406e-06</td>\n",
              "      <td>0.000797</td>\n",
              "      <td>1.514038e-08</td>\n",
              "      <td>0.000004</td>\n",
              "    </tr>\n",
              "    <tr>\n",
              "      <th>0.614</th>\n",
              "      <td>0.185194</td>\n",
              "      <td>0.000910</td>\n",
              "      <td>6.679092</td>\n",
              "      <td>3.030996e-06</td>\n",
              "      <td>0.000815</td>\n",
              "      <td>2.978946e-08</td>\n",
              "      <td>0.000004</td>\n",
              "    </tr>\n",
              "  </tbody>\n",
              "</table>\n",
              "</div>\n",
              "    <div class=\"colab-df-buttons\">\n",
              "\n",
              "  <div class=\"colab-df-container\">\n",
              "    <button class=\"colab-df-convert\" onclick=\"convertToInteractive('df-66f9cdbe-fa4b-469a-a902-9d491585a6ca')\"\n",
              "            title=\"Convert this dataframe to an interactive table.\"\n",
              "            style=\"display:none;\">\n",
              "\n",
              "  <svg xmlns=\"http://www.w3.org/2000/svg\" height=\"24px\" viewBox=\"0 -960 960 960\">\n",
              "    <path d=\"M120-120v-720h720v720H120Zm60-500h600v-160H180v160Zm220 220h160v-160H400v160Zm0 220h160v-160H400v160ZM180-400h160v-160H180v160Zm440 0h160v-160H620v160ZM180-180h160v-160H180v160Zm440 0h160v-160H620v160Z\"/>\n",
              "  </svg>\n",
              "    </button>\n",
              "\n",
              "  <style>\n",
              "    .colab-df-container {\n",
              "      display:flex;\n",
              "      gap: 12px;\n",
              "    }\n",
              "\n",
              "    .colab-df-convert {\n",
              "      background-color: #E8F0FE;\n",
              "      border: none;\n",
              "      border-radius: 50%;\n",
              "      cursor: pointer;\n",
              "      display: none;\n",
              "      fill: #1967D2;\n",
              "      height: 32px;\n",
              "      padding: 0 0 0 0;\n",
              "      width: 32px;\n",
              "    }\n",
              "\n",
              "    .colab-df-convert:hover {\n",
              "      background-color: #E2EBFA;\n",
              "      box-shadow: 0px 1px 2px rgba(60, 64, 67, 0.3), 0px 1px 3px 1px rgba(60, 64, 67, 0.15);\n",
              "      fill: #174EA6;\n",
              "    }\n",
              "\n",
              "    .colab-df-buttons div {\n",
              "      margin-bottom: 4px;\n",
              "    }\n",
              "\n",
              "    [theme=dark] .colab-df-convert {\n",
              "      background-color: #3B4455;\n",
              "      fill: #D2E3FC;\n",
              "    }\n",
              "\n",
              "    [theme=dark] .colab-df-convert:hover {\n",
              "      background-color: #434B5C;\n",
              "      box-shadow: 0px 1px 3px 1px rgba(0, 0, 0, 0.15);\n",
              "      filter: drop-shadow(0px 1px 2px rgba(0, 0, 0, 0.3));\n",
              "      fill: #FFFFFF;\n",
              "    }\n",
              "  </style>\n",
              "\n",
              "    <script>\n",
              "      const buttonEl =\n",
              "        document.querySelector('#df-66f9cdbe-fa4b-469a-a902-9d491585a6ca button.colab-df-convert');\n",
              "      buttonEl.style.display =\n",
              "        google.colab.kernel.accessAllowed ? 'block' : 'none';\n",
              "\n",
              "      async function convertToInteractive(key) {\n",
              "        const element = document.querySelector('#df-66f9cdbe-fa4b-469a-a902-9d491585a6ca');\n",
              "        const dataTable =\n",
              "          await google.colab.kernel.invokeFunction('convertToInteractive',\n",
              "                                                    [key], {});\n",
              "        if (!dataTable) return;\n",
              "\n",
              "        const docLinkHtml = 'Like what you see? Visit the ' +\n",
              "          '<a target=\"_blank\" href=https://colab.research.google.com/notebooks/data_table.ipynb>data table notebook</a>'\n",
              "          + ' to learn more about interactive tables.';\n",
              "        element.innerHTML = '';\n",
              "        dataTable['output_type'] = 'display_data';\n",
              "        await google.colab.output.renderOutput(dataTable, element);\n",
              "        const docLink = document.createElement('div');\n",
              "        docLink.innerHTML = docLinkHtml;\n",
              "        element.appendChild(docLink);\n",
              "      }\n",
              "    </script>\n",
              "  </div>\n",
              "\n",
              "\n",
              "<div id=\"df-69e2501a-efc9-4812-93fe-96c98a77842c\">\n",
              "  <button class=\"colab-df-quickchart\" onclick=\"quickchart('df-69e2501a-efc9-4812-93fe-96c98a77842c')\"\n",
              "            title=\"Suggest charts\"\n",
              "            style=\"display:none;\">\n",
              "\n",
              "<svg xmlns=\"http://www.w3.org/2000/svg\" height=\"24px\"viewBox=\"0 0 24 24\"\n",
              "     width=\"24px\">\n",
              "    <g>\n",
              "        <path d=\"M19 3H5c-1.1 0-2 .9-2 2v14c0 1.1.9 2 2 2h14c1.1 0 2-.9 2-2V5c0-1.1-.9-2-2-2zM9 17H7v-7h2v7zm4 0h-2V7h2v10zm4 0h-2v-4h2v4z\"/>\n",
              "    </g>\n",
              "</svg>\n",
              "  </button>\n",
              "\n",
              "<style>\n",
              "  .colab-df-quickchart {\n",
              "      --bg-color: #E8F0FE;\n",
              "      --fill-color: #1967D2;\n",
              "      --hover-bg-color: #E2EBFA;\n",
              "      --hover-fill-color: #174EA6;\n",
              "      --disabled-fill-color: #AAA;\n",
              "      --disabled-bg-color: #DDD;\n",
              "  }\n",
              "\n",
              "  [theme=dark] .colab-df-quickchart {\n",
              "      --bg-color: #3B4455;\n",
              "      --fill-color: #D2E3FC;\n",
              "      --hover-bg-color: #434B5C;\n",
              "      --hover-fill-color: #FFFFFF;\n",
              "      --disabled-bg-color: #3B4455;\n",
              "      --disabled-fill-color: #666;\n",
              "  }\n",
              "\n",
              "  .colab-df-quickchart {\n",
              "    background-color: var(--bg-color);\n",
              "    border: none;\n",
              "    border-radius: 50%;\n",
              "    cursor: pointer;\n",
              "    display: none;\n",
              "    fill: var(--fill-color);\n",
              "    height: 32px;\n",
              "    padding: 0;\n",
              "    width: 32px;\n",
              "  }\n",
              "\n",
              "  .colab-df-quickchart:hover {\n",
              "    background-color: var(--hover-bg-color);\n",
              "    box-shadow: 0 1px 2px rgba(60, 64, 67, 0.3), 0 1px 3px 1px rgba(60, 64, 67, 0.15);\n",
              "    fill: var(--button-hover-fill-color);\n",
              "  }\n",
              "\n",
              "  .colab-df-quickchart-complete:disabled,\n",
              "  .colab-df-quickchart-complete:disabled:hover {\n",
              "    background-color: var(--disabled-bg-color);\n",
              "    fill: var(--disabled-fill-color);\n",
              "    box-shadow: none;\n",
              "  }\n",
              "\n",
              "  .colab-df-spinner {\n",
              "    border: 2px solid var(--fill-color);\n",
              "    border-color: transparent;\n",
              "    border-bottom-color: var(--fill-color);\n",
              "    animation:\n",
              "      spin 1s steps(1) infinite;\n",
              "  }\n",
              "\n",
              "  @keyframes spin {\n",
              "    0% {\n",
              "      border-color: transparent;\n",
              "      border-bottom-color: var(--fill-color);\n",
              "      border-left-color: var(--fill-color);\n",
              "    }\n",
              "    20% {\n",
              "      border-color: transparent;\n",
              "      border-left-color: var(--fill-color);\n",
              "      border-top-color: var(--fill-color);\n",
              "    }\n",
              "    30% {\n",
              "      border-color: transparent;\n",
              "      border-left-color: var(--fill-color);\n",
              "      border-top-color: var(--fill-color);\n",
              "      border-right-color: var(--fill-color);\n",
              "    }\n",
              "    40% {\n",
              "      border-color: transparent;\n",
              "      border-right-color: var(--fill-color);\n",
              "      border-top-color: var(--fill-color);\n",
              "    }\n",
              "    60% {\n",
              "      border-color: transparent;\n",
              "      border-right-color: var(--fill-color);\n",
              "    }\n",
              "    80% {\n",
              "      border-color: transparent;\n",
              "      border-right-color: var(--fill-color);\n",
              "      border-bottom-color: var(--fill-color);\n",
              "    }\n",
              "    90% {\n",
              "      border-color: transparent;\n",
              "      border-bottom-color: var(--fill-color);\n",
              "    }\n",
              "  }\n",
              "</style>\n",
              "\n",
              "  <script>\n",
              "    async function quickchart(key) {\n",
              "      const quickchartButtonEl =\n",
              "        document.querySelector('#' + key + ' button');\n",
              "      quickchartButtonEl.disabled = true;  // To prevent multiple clicks.\n",
              "      quickchartButtonEl.classList.add('colab-df-spinner');\n",
              "      try {\n",
              "        const charts = await google.colab.kernel.invokeFunction(\n",
              "            'suggestCharts', [key], {});\n",
              "      } catch (error) {\n",
              "        console.error('Error during call to suggestCharts:', error);\n",
              "      }\n",
              "      quickchartButtonEl.classList.remove('colab-df-spinner');\n",
              "      quickchartButtonEl.classList.add('colab-df-quickchart-complete');\n",
              "    }\n",
              "    (() => {\n",
              "      let quickchartButtonEl =\n",
              "        document.querySelector('#df-69e2501a-efc9-4812-93fe-96c98a77842c button');\n",
              "      quickchartButtonEl.style.display =\n",
              "        google.colab.kernel.accessAllowed ? 'block' : 'none';\n",
              "    })();\n",
              "  </script>\n",
              "</div>\n",
              "    </div>\n",
              "  </div>\n"
            ],
            "application/vnd.google.colaboratory.intrinsic+json": {
              "type": "dataframe",
              "variable_name": "grouped_data",
              "summary": "{\n  \"name\": \"grouped_data\",\n  \"rows\": 6,\n  \"fields\": [\n    {\n      \"column\": \"mass\",\n      \"properties\": {\n        \"dtype\": \"number\",\n        \"std\": 0.17160031080002933,\n        \"min\": 0.142,\n        \"max\": 0.614,\n        \"num_unique_values\": 6,\n        \"samples\": [\n          0.142,\n          0.18,\n          0.614\n        ],\n        \"semantic_type\": \"\",\n        \"description\": \"\"\n      }\n    },\n    {\n      \"column\": \"omega\",\n      \"properties\": {\n        \"dtype\": \"number\",\n        \"std\": 0.046317818309928836,\n        \"min\": 0.06666112793301555,\n        \"max\": 0.18519433425984533,\n        \"num_unique_values\": 6,\n        \"samples\": [\n          0.06666112793301555,\n          0.09401246390647935,\n          0.18519433425984533\n        ],\n        \"semantic_type\": \"\",\n        \"description\": \"\"\n      }\n    },\n    {\n      \"column\": \"sigma_omega\",\n      \"properties\": {\n        \"dtype\": \"number\",\n        \"std\": 0.00028494959008197124,\n        \"min\": 0.00023577363619902515,\n        \"max\": 0.0009099116312336418,\n        \"num_unique_values\": 6,\n        \"samples\": [\n          0.00023577363619902515,\n          0.00035175202586334975,\n          0.0009099116312336418\n        ],\n        \"semantic_type\": \"\",\n        \"description\": \"\"\n      }\n    },\n    {\n      \"column\": \"momentum\",\n      \"properties\": {\n        \"dtype\": \"number\",\n        \"std\": 1.8198002561365545,\n        \"min\": 1.6838359999999999,\n        \"max\": 6.679092000000002,\n        \"num_unique_values\": 6,\n        \"samples\": [\n          1.6838359999999999,\n          2.13444,\n          6.679092000000002\n        ],\n        \"semantic_type\": \"\",\n        \"description\": \"\"\n      }\n    },\n    {\n      \"column\": \"momentum_down\",\n      \"properties\": {\n        \"dtype\": \"number\",\n        \"std\": 1.0246912854409553e-06,\n        \"min\": 4.108862321060189e-07,\n        \"max\": 3.03099646892688e-06,\n        \"num_unique_values\": 6,\n        \"samples\": [\n          4.108862321060189e-07,\n          6.20285320394787e-07,\n          3.03099646892688e-06\n        ],\n        \"semantic_type\": \"\",\n        \"description\": \"\"\n      }\n    },\n    {\n      \"column\": \"omega_down\",\n      \"properties\": {\n        \"dtype\": \"number\",\n        \"std\": 0.00013641323146335423,\n        \"min\": 0.0005587707812687853,\n        \"max\": 0.0009350710544894477,\n        \"num_unique_values\": 6,\n        \"samples\": [\n          0.0005587707812687853,\n          0.0006287486483118611,\n          0.0008154573507011728\n        ],\n        \"semantic_type\": \"\",\n        \"description\": \"\"\n      }\n    },\n    {\n      \"column\": \"sigma_momentum\",\n      \"properties\": {\n        \"dtype\": \"number\",\n        \"std\": 1.1214705220400858e-08,\n        \"min\": 2.9069174891064343e-09,\n        \"max\": 2.9789455194587058e-08,\n        \"num_unique_values\": 6,\n        \"samples\": [\n          2.9069174891064343e-09,\n          4.645095644267506e-09,\n          2.9789455194587058e-08\n        ],\n        \"semantic_type\": \"\",\n        \"description\": \"\"\n      }\n    },\n    {\n      \"column\": \"sigma_down\",\n      \"properties\": {\n        \"dtype\": \"number\",\n        \"std\": 1.2246965034339365e-06,\n        \"min\": 1.976343839103285e-06,\n        \"max\": 5.331896595757277e-06,\n        \"num_unique_values\": 6,\n        \"samples\": [\n          1.976343839103285e-06,\n          2.353684555528186e-06,\n          4.006554933655655e-06\n        ],\n        \"semantic_type\": \"\",\n        \"description\": \"\"\n      }\n    }\n  ]\n}"
            }
          },
          "metadata": {},
          "execution_count": 75
        }
      ],
      "source": [
        "grouped_data = data.groupby('mass')[['omega', 'sigma_omega', 'momentum', 'momentum_down', 'omega_down', 'sigma_momentum', 'sigma_down']].mean()\n",
        "\n",
        "assert 0.273 in grouped_data.index\n",
        "assert np.allclose(grouped_data.omega[0.273], 0.1433)\n",
        "\n",
        "grouped_data"
      ]
    },
    {
      "cell_type": "markdown",
      "source": [
        "## 2.3 Простые графики и МНК"
      ],
      "metadata": {
        "id": "Swj1Ipg573q0"
      }
    },
    {
      "cell_type": "markdown",
      "metadata": {
        "id": "R8j4vhCcHxu1"
      },
      "source": [
        "Теперь время для повторного знакомства с методом наименьших квадратов. Конечно же, мы не заставим вас писать МНК самостоятельно! <s>Мы же не звери</s>\n",
        "\n",
        "\n",
        "В numpy функция [np.polyfit](https://numpy.org/devdocs/reference/generated/numpy.polyfit.html) по `x`, `y` и степени `p` вычисляет многочлен заданной степени, являющийся МНК-оценкой зависимости `y(x)`.\n",
        "\n",
        "Функция [np.polyval](https://numpy.org/devdocs/reference/generated/numpy.polyval.html), в свою очередь, вычисляет многочлен `P(x)` по заданным коэффициентам.\n",
        "\n",
        "Ваша задача - построить график зависимости $\\Omega (M)$ угловой скорости от момента инерции. На графике должны присутствовать экспериментальные точки, а также прямая, построенная по методу наименьших квадратов. В легенду вынесите полином с записанными коэффициентами. Не забудьте подписать оси (14 шрифт), задать сетку и сделать правильный заголовок (18 шрифт)!"
      ]
    },
    {
      "cell_type": "markdown",
      "source": [
        "<center><img src='https://drive.google.com/uc?export=view&id=1xumON0195iA4HGSqvpS0FAhPGxuCdKH8' width=600>\n",
        "\n",
        "Пример получившегося графика</center>"
      ],
      "metadata": {
        "id": "kV523sdeI5ze"
      }
    },
    {
      "cell_type": "code",
      "execution_count": 77,
      "metadata": {
        "id": "eAoulUClHxu1",
        "colab": {
          "base_uri": "https://localhost:8080/",
          "height": 728
        },
        "outputId": "5f821208-c79c-4b6e-e17d-8b3f0cd13496"
      },
      "outputs": [
        {
          "output_type": "display_data",
          "data": {
            "text/plain": [
              "<Figure size 1200x800 with 1 Axes>"
            ],
            "image/png": "[encoded data removed]"
          },
          "metadata": {}
        }
      ],
      "source": [
        "omega_np = np.array(grouped_data.omega)\n",
        "momentum_np = np.array(grouped_data.momentum)\n",
        "\n",
        "coefs = np.polyfit(momentum_np, omega_np, 1)\n",
        "\n",
        "# Чтобы прямая построилась красиво, немножко заходя за точки\n",
        "x_lsq = np.linspace(momentum_np.min() * 0.5, momentum_np.max() * 1.1, 100)\n",
        "\n",
        "# Примените np.polyval к коэффициентам и x_lsq\n",
        "y_lsq = np.polyval(coefs, x_lsq)\n",
        "\n",
        "fig = plt.figure(figsize=(12, 8))\n",
        "\n",
        "plt.scatter(momentum_np, omega_np, label='Экспериментальные точки', color='blue', marker='o')\n",
        "plt.plot(x_lsq, y_lsq, label=f'Линия МНК: y = {coefs[0]:.4f}x + {coefs[1]:.4f}', color='red', linewidth=2)\n",
        "\n",
        "plt.title(\"Зависимость угловой скорости от момента инерции\", fontsize=18)\n",
        "plt.xlabel(\"Момент инерции\", fontsize=14)\n",
        "plt.ylabel(\"Угловая скорость\", fontsize=14)\n",
        "plt.grid(True)\n",
        "plt.legend(fontsize=12)\n",
        "\n",
        "plt.show()"
      ]
    },
    {
      "cell_type": "markdown",
      "metadata": {
        "id": "soMU7vrHHxu2"
      },
      "source": [
        "`np.polyfit` также умеет оценивать погрешности! Если точнее, он возвращает матрицу ковариаций для метода наименьших квадратов. Не будем углубляться в математику, главное знать, что на диагонали у неё стоят дисперсии полученных коэффициентов. Для получения собственно погрешности $\\sigma$ необходимо взять корень из этих дисперсий.\n",
        "\n",
        "Также стоит упомянуть про параметр `W`, задающий веса точек для оценки. Если известны ошибки $y_{error}$, можно задать веса как $W = 1 / y_{error}$, и прямая получится ещё более точной. Чтобы учесть ещё и ошибки по $x$, нужны, к сожалению, уже другие методы (но скорее всего, вам не понадобятся даже ошибки по $y$)."
      ]
    },
    {
      "cell_type": "markdown",
      "metadata": {
        "id": "VE5lr50DHxu2"
      },
      "source": [
        "Представим, что произошла неприятность, и погрешности возросли в 10 раз!"
      ]
    },
    {
      "cell_type": "code",
      "execution_count": 78,
      "metadata": {
        "id": "E-t75UCcHxu3"
      },
      "outputs": [],
      "source": [
        "grouped_data['sigma_down'] *= 10\n",
        "grouped_data['sigma_momentum'] *= 10"
      ]
    },
    {
      "cell_type": "markdown",
      "metadata": {
        "id": "s8HQkGB3Hxu3"
      },
      "source": [
        "\n",
        "\n",
        "Теперь вам нужно нарисовать график зависимости $\\Omega_{down} (M_{down})$ <b>(не $\\Omega(M)$!)</b> для точек с крестами погрешностей, а также построить не только прямую по оценке наименьших квадратов, а ещё и учесть погрешности оценок коэффициентов! Т.е. нужно построить три прямых: $k \\cdot x + b$, которую выдал МНК, $(k - \\sigma_k) \\cdot x + (b - \\sigma_b)$, $(k + \\sigma_k) \\cdot x + (b + \\sigma_b)$, и закрасить промежуток между этими прямыми (в этом вам поможет функция plt.fill_between). Остальное оформление оставьте таким же, как в предыдущем задании.\n",
        "\n",
        "_Примечание: часто в МНК не смотрят на погрешность $b$, оставляя только $\\sigma_k$._"
      ]
    },
    {
      "cell_type": "markdown",
      "source": [
        "<center><img src='https://drive.google.com/uc?export=view&id=1SriaMzJah7F610ocIK_O1-HqqtMQgxlg' width=600>\n",
        "\n",
        "Пример получившегося графика</center>"
      ],
      "metadata": {
        "id": "Js6sF_UpKCkw"
      }
    },
    {
      "cell_type": "code",
      "execution_count": 80,
      "metadata": {
        "id": "dLdKIUCRHxu3",
        "colab": {
          "base_uri": "https://localhost:8080/",
          "height": 221
        },
        "outputId": "efc6a5a7-7843-42f0-c66a-3c27fd0a5511"
      },
      "outputs": [
        {
          "output_type": "error",
          "ename": "ValueError",
          "evalue": "operands could not be broadcast together with shapes (2,) (100,) ",
          "traceback": [
            "\u001b[0;31m---------------------------------------------------------------------------\u001b[0m",
            "\u001b[0;31mValueError\u001b[0m                                Traceback (most recent call last)",
            "\u001b[0;32m<ipython-input-80-ebd1ebe14947>\u001b[0m in \u001b[0;36m<cell line: 15>\u001b[0;34m()\u001b[0m\n\u001b[1;32m     13\u001b[0m \u001b[0;31m# Знакомый polyfit, но три раза\u001b[0m\u001b[0;34m\u001b[0m\u001b[0;34m\u001b[0m\u001b[0m\n\u001b[1;32m     14\u001b[0m \u001b[0my_lsq\u001b[0m \u001b[0;34m=\u001b[0m \u001b[0mnp\u001b[0m\u001b[0;34m.\u001b[0m\u001b[0mpolyval\u001b[0m\u001b[0;34m(\u001b[0m\u001b[0mcoefs\u001b[0m\u001b[0;34m,\u001b[0m \u001b[0mx_lsq\u001b[0m\u001b[0;34m)\u001b[0m\u001b[0;34m\u001b[0m\u001b[0;34m\u001b[0m\u001b[0m\n\u001b[0;32m---> 15\u001b[0;31m \u001b[0my_lsq_lower\u001b[0m \u001b[0;34m=\u001b[0m \u001b[0;34m(\u001b[0m\u001b[0mcoefs\u001b[0m \u001b[0;34m-\u001b[0m \u001b[0mlsq_stds\u001b[0m\u001b[0;34m[\u001b[0m\u001b[0;36m0\u001b[0m\u001b[0;34m]\u001b[0m\u001b[0;34m)\u001b[0m \u001b[0;34m*\u001b[0m \u001b[0mx_lsq\u001b[0m \u001b[0;34m+\u001b[0m \u001b[0;34m(\u001b[0m\u001b[0mb\u001b[0m \u001b[0;34m-\u001b[0m \u001b[0mlsq_stds\u001b[0m\u001b[0;34m[\u001b[0m\u001b[0;36m1\u001b[0m\u001b[0;34m]\u001b[0m\u001b[0;34m)\u001b[0m\u001b[0;34m\u001b[0m\u001b[0;34m\u001b[0m\u001b[0m\n\u001b[0m\u001b[1;32m     16\u001b[0m \u001b[0my_lsq_upper\u001b[0m \u001b[0;34m=\u001b[0m \u001b[0;34m(\u001b[0m\u001b[0mcoefs\u001b[0m \u001b[0;34m+\u001b[0m \u001b[0mlsq_stds\u001b[0m\u001b[0;34m)\u001b[0m \u001b[0;34m*\u001b[0m \u001b[0mx_lsq\u001b[0m \u001b[0;34m+\u001b[0m \u001b[0;34m(\u001b[0m\u001b[0mb\u001b[0m \u001b[0;34m+\u001b[0m \u001b[0mlsq_stds\u001b[0m\u001b[0;34m)\u001b[0m\u001b[0;34m\u001b[0m\u001b[0;34m\u001b[0m\u001b[0m\n\u001b[1;32m     17\u001b[0m \u001b[0;34m\u001b[0m\u001b[0m\n",
            "\u001b[0;31mValueError\u001b[0m: operands could not be broadcast together with shapes (2,) (100,) "
          ]
        }
      ],
      "source": [
        "omega_down_np = np.array(grouped_data.omega_down)\n",
        "momentum_down_np = np.array(grouped_data.momentum_down)\n",
        "\n",
        "# Снова polyfit, но с дополнительным параметром и возвращающий ковариацию!\n",
        "coefs, cov = np.polyfit(momentum_down_np, omega_down_np, 1, cov=True)\n",
        "\n",
        "# Чтобы прямая построилась снова красиво\n",
        "x_lsq = np.linspace(momentum_down_np.min() * 0.3, momentum_down_np.max() * 1.1, 100)\n",
        "\n",
        "# Посчитайте корень диагональных элементов, должен получиться массив размером (2,)\n",
        "lsq_stds = np.sqrt(np.diag(cov))\n",
        "\n",
        "# Знакомый polyfit, но три раза\n",
        "# y_lsq = ...\n",
        "# y_lsq_lower = ...\n",
        "# y_lsq_upper = ...\n",
        "\n",
        "fig = plt.figure(figsize=(12, 8))\n",
        "\n",
        "# YOUR CODE HERE\n",
        "# ...\n",
        "plt.show()"
      ]
    },
    {
      "cell_type": "markdown",
      "source": [
        "# 3. Работа с датасетом (3 балла)"
      ],
      "metadata": {
        "id": "FqLjEbi2M4rE"
      }
    },
    {
      "cell_type": "markdown",
      "source": [
        "Датасет ирисов использовался в статье Р.А. Фишера 1936 года «Использование множественных измерений в таксономических задачах», а в наши дни часто используется начинающими аналитиками данных.\n",
        "\n",
        "В наборе данных включены три вида ирисов по 50 образцов каждый, а также некоторые свойства каждого цветка. Один вид цветка линейно отделим от двух других, но два других не отделимы линейно друг от друга.\n",
        "\n",
        "Столбцы в этом датасете:\n",
        "\n",
        "Идентификатор (Id) \\\\\n",
        "Длина чашелистика, см (SepalLengthCm) \\\\\n",
        "Ширина чашелистика, см (SepalWidthCm) \\\\\n",
        "Длина лепестка, см (PetalLengthCm) \\\\\n",
        "Ширина лепестка, см (PetalWidthCm) \\\\\n",
        "Вид (Species) \\\\\n",
        "\n",
        "<font color='red'>ВНИМАНИЕ!</font> Все графики в этой части должны быть подписаны, а на осях должны быть подписи на русском языке."
      ],
      "metadata": {
        "id": "mrXNzj1vSxMi"
      }
    },
    {
      "cell_type": "code",
      "source": [
        "sns.set_style(\"darkgrid\")"
      ],
      "metadata": {
        "id": "NESWENOWa7og"
      },
      "execution_count": null,
      "outputs": []
    },
    {
      "cell_type": "code",
      "source": [
        "# Считайте csv в DataFrame pandas при помощи pd.read_csv\n",
        "iris = # TODO\n",
        "iris.head()"
      ],
      "metadata": {
        "colab": {
          "base_uri": "https://localhost:8080/",
          "height": 206
        },
        "id": "AlQQAZVbUGFw",
        "outputId": "9ca764f5-ff70-4a00-d619-ed0dc3885a89"
      },
      "execution_count": null,
      "outputs": [
        {
          "output_type": "execute_result",
          "data": {
            "text/plain": [
              "   Id  SepalLengthCm  SepalWidthCm  PetalLengthCm  PetalWidthCm      Species\n",
              "0   1            5.1           3.5            1.4           0.2  Iris-setosa\n",
              "1   2            4.9           3.0            1.4           0.2  Iris-setosa\n",
              "2   3            4.7           3.2            1.3           0.2  Iris-setosa\n",
              "3   4            4.6           3.1            1.5           0.2  Iris-setosa\n",
              "4   5            5.0           3.6            1.4           0.2  Iris-setosa"
            ],
            "text/html": [
              "\n",
              "  <div id=\"df-e822ff8e-9df1-4759-9b64-80a0c48ce208\" class=\"colab-df-container\">\n",
              "    <div>\n",
              "<style scoped>\n",
              "    .dataframe tbody tr th:only-of-type {\n",
              "        vertical-align: middle;\n",
              "    }\n",
              "\n",
              "    .dataframe tbody tr th {\n",
              "        vertical-align: top;\n",
              "    }\n",
              "\n",
              "    .dataframe thead th {\n",
              "        text-align: right;\n",
              "    }\n",
              "</style>\n",
              "<table border=\"1\" class=\"dataframe\">\n",
              "  <thead>\n",
              "    <tr style=\"text-align: right;\">\n",
              "      <th></th>\n",
              "      <th>Id</th>\n",
              "      <th>SepalLengthCm</th>\n",
              "      <th>SepalWidthCm</th>\n",
              "      <th>PetalLengthCm</th>\n",
              "      <th>PetalWidthCm</th>\n",
              "      <th>Species</th>\n",
              "    </tr>\n",
              "  </thead>\n",
              "  <tbody>\n",
              "    <tr>\n",
              "      <th>0</th>\n",
              "      <td>1</td>\n",
              "      <td>5.1</td>\n",
              "      <td>3.5</td>\n",
              "      <td>1.4</td>\n",
              "      <td>0.2</td>\n",
              "      <td>Iris-setosa</td>\n",
              "    </tr>\n",
              "    <tr>\n",
              "      <th>1</th>\n",
              "      <td>2</td>\n",
              "      <td>4.9</td>\n",
              "      <td>3.0</td>\n",
              "      <td>1.4</td>\n",
              "      <td>0.2</td>\n",
              "      <td>Iris-setosa</td>\n",
              "    </tr>\n",
              "    <tr>\n",
              "      <th>2</th>\n",
              "      <td>3</td>\n",
              "      <td>4.7</td>\n",
              "      <td>3.2</td>\n",
              "      <td>1.3</td>\n",
              "      <td>0.2</td>\n",
              "      <td>Iris-setosa</td>\n",
              "    </tr>\n",
              "    <tr>\n",
              "      <th>3</th>\n",
              "      <td>4</td>\n",
              "      <td>4.6</td>\n",
              "      <td>3.1</td>\n",
              "      <td>1.5</td>\n",
              "      <td>0.2</td>\n",
              "      <td>Iris-setosa</td>\n",
              "    </tr>\n",
              "    <tr>\n",
              "      <th>4</th>\n",
              "      <td>5</td>\n",
              "      <td>5.0</td>\n",
              "      <td>3.6</td>\n",
              "      <td>1.4</td>\n",
              "      <td>0.2</td>\n",
              "      <td>Iris-setosa</td>\n",
              "    </tr>\n",
              "  </tbody>\n",
              "</table>\n",
              "</div>\n",
              "    <div class=\"colab-df-buttons\">\n",
              "\n",
              "  <div class=\"colab-df-container\">\n",
              "    <button class=\"colab-df-convert\" onclick=\"convertToInteractive('df-e822ff8e-9df1-4759-9b64-80a0c48ce208')\"\n",
              "            title=\"Convert this dataframe to an interactive table.\"\n",
              "            style=\"display:none;\">\n",
              "\n",
              "  <svg xmlns=\"http://www.w3.org/2000/svg\" height=\"24px\" viewBox=\"0 -960 960 960\">\n",
              "    <path d=\"M120-120v-720h720v720H120Zm60-500h600v-160H180v160Zm220 220h160v-160H400v160Zm0 220h160v-160H400v160ZM180-400h160v-160H180v160Zm440 0h160v-160H620v160ZM180-180h160v-160H180v160Zm440 0h160v-160H620v160Z\"/>\n",
              "  </svg>\n",
              "    </button>\n",
              "\n",
              "  <style>\n",
              "    .colab-df-container {\n",
              "      display:flex;\n",
              "      gap: 12px;\n",
              "    }\n",
              "\n",
              "    .colab-df-convert {\n",
              "      background-color: #E8F0FE;\n",
              "      border: none;\n",
              "      border-radius: 50%;\n",
              "      cursor: pointer;\n",
              "      display: none;\n",
              "      fill: #1967D2;\n",
              "      height: 32px;\n",
              "      padding: 0 0 0 0;\n",
              "      width: 32px;\n",
              "    }\n",
              "\n",
              "    .colab-df-convert:hover {\n",
              "      background-color: #E2EBFA;\n",
              "      box-shadow: 0px 1px 2px rgba(60, 64, 67, 0.3), 0px 1px 3px 1px rgba(60, 64, 67, 0.15);\n",
              "      fill: #174EA6;\n",
              "    }\n",
              "\n",
              "    .colab-df-buttons div {\n",
              "      margin-bottom: 4px;\n",
              "    }\n",
              "\n",
              "    [theme=dark] .colab-df-convert {\n",
              "      background-color: #3B4455;\n",
              "      fill: #D2E3FC;\n",
              "    }\n",
              "\n",
              "    [theme=dark] .colab-df-convert:hover {\n",
              "      background-color: #434B5C;\n",
              "      box-shadow: 0px 1px 3px 1px rgba(0, 0, 0, 0.15);\n",
              "      filter: drop-shadow(0px 1px 2px rgba(0, 0, 0, 0.3));\n",
              "      fill: #FFFFFF;\n",
              "    }\n",
              "  </style>\n",
              "\n",
              "    <script>\n",
              "      const buttonEl =\n",
              "        document.querySelector('#df-e822ff8e-9df1-4759-9b64-80a0c48ce208 button.colab-df-convert');\n",
              "      buttonEl.style.display =\n",
              "        google.colab.kernel.accessAllowed ? 'block' : 'none';\n",
              "\n",
              "      async function convertToInteractive(key) {\n",
              "        const element = document.querySelector('#df-e822ff8e-9df1-4759-9b64-80a0c48ce208');\n",
              "        const dataTable =\n",
              "          await google.colab.kernel.invokeFunction('convertToInteractive',\n",
              "                                                    [key], {});\n",
              "        if (!dataTable) return;\n",
              "\n",
              "        const docLinkHtml = 'Like what you see? Visit the ' +\n",
              "          '<a target=\"_blank\" href=https://colab.research.google.com/notebooks/data_table.ipynb>data table notebook</a>'\n",
              "          + ' to learn more about interactive tables.';\n",
              "        element.innerHTML = '';\n",
              "        dataTable['output_type'] = 'display_data';\n",
              "        await google.colab.output.renderOutput(dataTable, element);\n",
              "        const docLink = document.createElement('div');\n",
              "        docLink.innerHTML = docLinkHtml;\n",
              "        element.appendChild(docLink);\n",
              "      }\n",
              "    </script>\n",
              "  </div>\n",
              "\n",
              "\n",
              "<div id=\"df-723cae06-ca78-458a-8e2f-396d0d030629\">\n",
              "  <button class=\"colab-df-quickchart\" onclick=\"quickchart('df-723cae06-ca78-458a-8e2f-396d0d030629')\"\n",
              "            title=\"Suggest charts\"\n",
              "            style=\"display:none;\">\n",
              "\n",
              "<svg xmlns=\"http://www.w3.org/2000/svg\" height=\"24px\"viewBox=\"0 0 24 24\"\n",
              "     width=\"24px\">\n",
              "    <g>\n",
              "        <path d=\"M19 3H5c-1.1 0-2 .9-2 2v14c0 1.1.9 2 2 2h14c1.1 0 2-.9 2-2V5c0-1.1-.9-2-2-2zM9 17H7v-7h2v7zm4 0h-2V7h2v10zm4 0h-2v-4h2v4z\"/>\n",
              "    </g>\n",
              "</svg>\n",
              "  </button>\n",
              "\n",
              "<style>\n",
              "  .colab-df-quickchart {\n",
              "      --bg-color: #E8F0FE;\n",
              "      --fill-color: #1967D2;\n",
              "      --hover-bg-color: #E2EBFA;\n",
              "      --hover-fill-color: #174EA6;\n",
              "      --disabled-fill-color: #AAA;\n",
              "      --disabled-bg-color: #DDD;\n",
              "  }\n",
              "\n",
              "  [theme=dark] .colab-df-quickchart {\n",
              "      --bg-color: #3B4455;\n",
              "      --fill-color: #D2E3FC;\n",
              "      --hover-bg-color: #434B5C;\n",
              "      --hover-fill-color: #FFFFFF;\n",
              "      --disabled-bg-color: #3B4455;\n",
              "      --disabled-fill-color: #666;\n",
              "  }\n",
              "\n",
              "  .colab-df-quickchart {\n",
              "    background-color: var(--bg-color);\n",
              "    border: none;\n",
              "    border-radius: 50%;\n",
              "    cursor: pointer;\n",
              "    display: none;\n",
              "    fill: var(--fill-color);\n",
              "    height: 32px;\n",
              "    padding: 0;\n",
              "    width: 32px;\n",
              "  }\n",
              "\n",
              "  .colab-df-quickchart:hover {\n",
              "    background-color: var(--hover-bg-color);\n",
              "    box-shadow: 0 1px 2px rgba(60, 64, 67, 0.3), 0 1px 3px 1px rgba(60, 64, 67, 0.15);\n",
              "    fill: var(--button-hover-fill-color);\n",
              "  }\n",
              "\n",
              "  .colab-df-quickchart-complete:disabled,\n",
              "  .colab-df-quickchart-complete:disabled:hover {\n",
              "    background-color: var(--disabled-bg-color);\n",
              "    fill: var(--disabled-fill-color);\n",
              "    box-shadow: none;\n",
              "  }\n",
              "\n",
              "  .colab-df-spinner {\n",
              "    border: 2px solid var(--fill-color);\n",
              "    border-color: transparent;\n",
              "    border-bottom-color: var(--fill-color);\n",
              "    animation:\n",
              "      spin 1s steps(1) infinite;\n",
              "  }\n",
              "\n",
              "  @keyframes spin {\n",
              "    0% {\n",
              "      border-color: transparent;\n",
              "      border-bottom-color: var(--fill-color);\n",
              "      border-left-color: var(--fill-color);\n",
              "    }\n",
              "    20% {\n",
              "      border-color: transparent;\n",
              "      border-left-color: var(--fill-color);\n",
              "      border-top-color: var(--fill-color);\n",
              "    }\n",
              "    30% {\n",
              "      border-color: transparent;\n",
              "      border-left-color: var(--fill-color);\n",
              "      border-top-color: var(--fill-color);\n",
              "      border-right-color: var(--fill-color);\n",
              "    }\n",
              "    40% {\n",
              "      border-color: transparent;\n",
              "      border-right-color: var(--fill-color);\n",
              "      border-top-color: var(--fill-color);\n",
              "    }\n",
              "    60% {\n",
              "      border-color: transparent;\n",
              "      border-right-color: var(--fill-color);\n",
              "    }\n",
              "    80% {\n",
              "      border-color: transparent;\n",
              "      border-right-color: var(--fill-color);\n",
              "      border-bottom-color: var(--fill-color);\n",
              "    }\n",
              "    90% {\n",
              "      border-color: transparent;\n",
              "      border-bottom-color: var(--fill-color);\n",
              "    }\n",
              "  }\n",
              "</style>\n",
              "\n",
              "  <script>\n",
              "    async function quickchart(key) {\n",
              "      const quickchartButtonEl =\n",
              "        document.querySelector('#' + key + ' button');\n",
              "      quickchartButtonEl.disabled = true;  // To prevent multiple clicks.\n",
              "      quickchartButtonEl.classList.add('colab-df-spinner');\n",
              "      try {\n",
              "        const charts = await google.colab.kernel.invokeFunction(\n",
              "            'suggestCharts', [key], {});\n",
              "      } catch (error) {\n",
              "        console.error('Error during call to suggestCharts:', error);\n",
              "      }\n",
              "      quickchartButtonEl.classList.remove('colab-df-spinner');\n",
              "      quickchartButtonEl.classList.add('colab-df-quickchart-complete');\n",
              "    }\n",
              "    (() => {\n",
              "      let quickchartButtonEl =\n",
              "        document.querySelector('#df-723cae06-ca78-458a-8e2f-396d0d030629 button');\n",
              "      quickchartButtonEl.style.display =\n",
              "        google.colab.kernel.accessAllowed ? 'block' : 'none';\n",
              "    })();\n",
              "  </script>\n",
              "</div>\n",
              "    </div>\n",
              "  </div>\n"
            ],
            "application/vnd.google.colaboratory.intrinsic+json": {
              "type": "dataframe",
              "variable_name": "iris",
              "summary": "{\n  \"name\": \"iris\",\n  \"rows\": 150,\n  \"fields\": [\n    {\n      \"column\": \"Id\",\n      \"properties\": {\n        \"dtype\": \"number\",\n        \"std\": 43,\n        \"min\": 1,\n        \"max\": 150,\n        \"num_unique_values\": 150,\n        \"samples\": [\n          74,\n          19,\n          119\n        ],\n        \"semantic_type\": \"\",\n        \"description\": \"\"\n      }\n    },\n    {\n      \"column\": \"SepalLengthCm\",\n      \"properties\": {\n        \"dtype\": \"number\",\n        \"std\": 0.8280661279778629,\n        \"min\": 4.3,\n        \"max\": 7.9,\n        \"num_unique_values\": 35,\n        \"samples\": [\n          6.2,\n          4.5,\n          5.6\n        ],\n        \"semantic_type\": \"\",\n        \"description\": \"\"\n      }\n    },\n    {\n      \"column\": \"SepalWidthCm\",\n      \"properties\": {\n        \"dtype\": \"number\",\n        \"std\": 0.4335943113621737,\n        \"min\": 2.0,\n        \"max\": 4.4,\n        \"num_unique_values\": 23,\n        \"samples\": [\n          2.3,\n          4.0,\n          3.5\n        ],\n        \"semantic_type\": \"\",\n        \"description\": \"\"\n      }\n    },\n    {\n      \"column\": \"PetalLengthCm\",\n      \"properties\": {\n        \"dtype\": \"number\",\n        \"std\": 1.7644204199522617,\n        \"min\": 1.0,\n        \"max\": 6.9,\n        \"num_unique_values\": 43,\n        \"samples\": [\n          6.7,\n          3.8,\n          3.7\n        ],\n        \"semantic_type\": \"\",\n        \"description\": \"\"\n      }\n    },\n    {\n      \"column\": \"PetalWidthCm\",\n      \"properties\": {\n        \"dtype\": \"number\",\n        \"std\": 0.7631607417008414,\n        \"min\": 0.1,\n        \"max\": 2.5,\n        \"num_unique_values\": 22,\n        \"samples\": [\n          0.2,\n          1.2,\n          1.3\n        ],\n        \"semantic_type\": \"\",\n        \"description\": \"\"\n      }\n    },\n    {\n      \"column\": \"Species\",\n      \"properties\": {\n        \"dtype\": \"category\",\n        \"num_unique_values\": 3,\n        \"samples\": [\n          \"Iris-setosa\",\n          \"Iris-versicolor\",\n          \"Iris-virginica\"\n        ],\n        \"semantic_type\": \"\",\n        \"description\": \"\"\n      }\n    }\n  ]\n}"
            }
          },
          "metadata": {},
          "execution_count": 6
        }
      ]
    },
    {
      "cell_type": "code",
      "source": [
        "# Понятно, что колонка Id нам не очень нужна\n",
        "# Поэтому давайте её удалим - HINT: используйте метод drop\n",
        "\n",
        "# TODO\n",
        "iris.head()"
      ],
      "metadata": {
        "colab": {
          "base_uri": "https://localhost:8080/",
          "height": 206
        },
        "id": "oDcVUiPbUfOa",
        "outputId": "d8d679c1-34f8-4c1f-b5e4-c5d05864f5cd"
      },
      "execution_count": null,
      "outputs": [
        {
          "output_type": "execute_result",
          "data": {
            "text/plain": [
              "   SepalLengthCm  SepalWidthCm  PetalLengthCm  PetalWidthCm      Species\n",
              "0            5.1           3.5            1.4           0.2  Iris-setosa\n",
              "1            4.9           3.0            1.4           0.2  Iris-setosa\n",
              "2            4.7           3.2            1.3           0.2  Iris-setosa\n",
              "3            4.6           3.1            1.5           0.2  Iris-setosa\n",
              "4            5.0           3.6            1.4           0.2  Iris-setosa"
            ],
            "text/html": [
              "\n",
              "  <div id=\"df-074bae3a-d6d8-40bb-be15-26f9bec74021\" class=\"colab-df-container\">\n",
              "    <div>\n",
              "<style scoped>\n",
              "    .dataframe tbody tr th:only-of-type {\n",
              "        vertical-align: middle;\n",
              "    }\n",
              "\n",
              "    .dataframe tbody tr th {\n",
              "        vertical-align: top;\n",
              "    }\n",
              "\n",
              "    .dataframe thead th {\n",
              "        text-align: right;\n",
              "    }\n",
              "</style>\n",
              "<table border=\"1\" class=\"dataframe\">\n",
              "  <thead>\n",
              "    <tr style=\"text-align: right;\">\n",
              "      <th></th>\n",
              "      <th>SepalLengthCm</th>\n",
              "      <th>SepalWidthCm</th>\n",
              "      <th>PetalLengthCm</th>\n",
              "      <th>PetalWidthCm</th>\n",
              "      <th>Species</th>\n",
              "    </tr>\n",
              "  </thead>\n",
              "  <tbody>\n",
              "    <tr>\n",
              "      <th>0</th>\n",
              "      <td>5.1</td>\n",
              "      <td>3.5</td>\n",
              "      <td>1.4</td>\n",
              "      <td>0.2</td>\n",
              "      <td>Iris-setosa</td>\n",
              "    </tr>\n",
              "    <tr>\n",
              "      <th>1</th>\n",
              "      <td>4.9</td>\n",
              "      <td>3.0</td>\n",
              "      <td>1.4</td>\n",
              "      <td>0.2</td>\n",
              "      <td>Iris-setosa</td>\n",
              "    </tr>\n",
              "    <tr>\n",
              "      <th>2</th>\n",
              "      <td>4.7</td>\n",
              "      <td>3.2</td>\n",
              "      <td>1.3</td>\n",
              "      <td>0.2</td>\n",
              "      <td>Iris-setosa</td>\n",
              "    </tr>\n",
              "    <tr>\n",
              "      <th>3</th>\n",
              "      <td>4.6</td>\n",
              "      <td>3.1</td>\n",
              "      <td>1.5</td>\n",
              "      <td>0.2</td>\n",
              "      <td>Iris-setosa</td>\n",
              "    </tr>\n",
              "    <tr>\n",
              "      <th>4</th>\n",
              "      <td>5.0</td>\n",
              "      <td>3.6</td>\n",
              "      <td>1.4</td>\n",
              "      <td>0.2</td>\n",
              "      <td>Iris-setosa</td>\n",
              "    </tr>\n",
              "  </tbody>\n",
              "</table>\n",
              "</div>\n",
              "    <div class=\"colab-df-buttons\">\n",
              "\n",
              "  <div class=\"colab-df-container\">\n",
              "    <button class=\"colab-df-convert\" onclick=\"convertToInteractive('df-074bae3a-d6d8-40bb-be15-26f9bec74021')\"\n",
              "            title=\"Convert this dataframe to an interactive table.\"\n",
              "            style=\"display:none;\">\n",
              "\n",
              "  <svg xmlns=\"http://www.w3.org/2000/svg\" height=\"24px\" viewBox=\"0 -960 960 960\">\n",
              "    <path d=\"M120-120v-720h720v720H120Zm60-500h600v-160H180v160Zm220 220h160v-160H400v160Zm0 220h160v-160H400v160ZM180-400h160v-160H180v160Zm440 0h160v-160H620v160ZM180-180h160v-160H180v160Zm440 0h160v-160H620v160Z\"/>\n",
              "  </svg>\n",
              "    </button>\n",
              "\n",
              "  <style>\n",
              "    .colab-df-container {\n",
              "      display:flex;\n",
              "      gap: 12px;\n",
              "    }\n",
              "\n",
              "    .colab-df-convert {\n",
              "      background-color: #E8F0FE;\n",
              "      border: none;\n",
              "      border-radius: 50%;\n",
              "      cursor: pointer;\n",
              "      display: none;\n",
              "      fill: #1967D2;\n",
              "      height: 32px;\n",
              "      padding: 0 0 0 0;\n",
              "      width: 32px;\n",
              "    }\n",
              "\n",
              "    .colab-df-convert:hover {\n",
              "      background-color: #E2EBFA;\n",
              "      box-shadow: 0px 1px 2px rgba(60, 64, 67, 0.3), 0px 1px 3px 1px rgba(60, 64, 67, 0.15);\n",
              "      fill: #174EA6;\n",
              "    }\n",
              "\n",
              "    .colab-df-buttons div {\n",
              "      margin-bottom: 4px;\n",
              "    }\n",
              "\n",
              "    [theme=dark] .colab-df-convert {\n",
              "      background-color: #3B4455;\n",
              "      fill: #D2E3FC;\n",
              "    }\n",
              "\n",
              "    [theme=dark] .colab-df-convert:hover {\n",
              "      background-color: #434B5C;\n",
              "      box-shadow: 0px 1px 3px 1px rgba(0, 0, 0, 0.15);\n",
              "      filter: drop-shadow(0px 1px 2px rgba(0, 0, 0, 0.3));\n",
              "      fill: #FFFFFF;\n",
              "    }\n",
              "  </style>\n",
              "\n",
              "    <script>\n",
              "      const buttonEl =\n",
              "        document.querySelector('#df-074bae3a-d6d8-40bb-be15-26f9bec74021 button.colab-df-convert');\n",
              "      buttonEl.style.display =\n",
              "        google.colab.kernel.accessAllowed ? 'block' : 'none';\n",
              "\n",
              "      async function convertToInteractive(key) {\n",
              "        const element = document.querySelector('#df-074bae3a-d6d8-40bb-be15-26f9bec74021');\n",
              "        const dataTable =\n",
              "          await google.colab.kernel.invokeFunction('convertToInteractive',\n",
              "                                                    [key], {});\n",
              "        if (!dataTable) return;\n",
              "\n",
              "        const docLinkHtml = 'Like what you see? Visit the ' +\n",
              "          '<a target=\"_blank\" href=https://colab.research.google.com/notebooks/data_table.ipynb>data table notebook</a>'\n",
              "          + ' to learn more about interactive tables.';\n",
              "        element.innerHTML = '';\n",
              "        dataTable['output_type'] = 'display_data';\n",
              "        await google.colab.output.renderOutput(dataTable, element);\n",
              "        const docLink = document.createElement('div');\n",
              "        docLink.innerHTML = docLinkHtml;\n",
              "        element.appendChild(docLink);\n",
              "      }\n",
              "    </script>\n",
              "  </div>\n",
              "\n",
              "\n",
              "<div id=\"df-1daf5824-e96e-4eb2-ae7a-120b6bb1a9f8\">\n",
              "  <button class=\"colab-df-quickchart\" onclick=\"quickchart('df-1daf5824-e96e-4eb2-ae7a-120b6bb1a9f8')\"\n",
              "            title=\"Suggest charts\"\n",
              "            style=\"display:none;\">\n",
              "\n",
              "<svg xmlns=\"http://www.w3.org/2000/svg\" height=\"24px\"viewBox=\"0 0 24 24\"\n",
              "     width=\"24px\">\n",
              "    <g>\n",
              "        <path d=\"M19 3H5c-1.1 0-2 .9-2 2v14c0 1.1.9 2 2 2h14c1.1 0 2-.9 2-2V5c0-1.1-.9-2-2-2zM9 17H7v-7h2v7zm4 0h-2V7h2v10zm4 0h-2v-4h2v4z\"/>\n",
              "    </g>\n",
              "</svg>\n",
              "  </button>\n",
              "\n",
              "<style>\n",
              "  .colab-df-quickchart {\n",
              "      --bg-color: #E8F0FE;\n",
              "      --fill-color: #1967D2;\n",
              "      --hover-bg-color: #E2EBFA;\n",
              "      --hover-fill-color: #174EA6;\n",
              "      --disabled-fill-color: #AAA;\n",
              "      --disabled-bg-color: #DDD;\n",
              "  }\n",
              "\n",
              "  [theme=dark] .colab-df-quickchart {\n",
              "      --bg-color: #3B4455;\n",
              "      --fill-color: #D2E3FC;\n",
              "      --hover-bg-color: #434B5C;\n",
              "      --hover-fill-color: #FFFFFF;\n",
              "      --disabled-bg-color: #3B4455;\n",
              "      --disabled-fill-color: #666;\n",
              "  }\n",
              "\n",
              "  .colab-df-quickchart {\n",
              "    background-color: var(--bg-color);\n",
              "    border: none;\n",
              "    border-radius: 50%;\n",
              "    cursor: pointer;\n",
              "    display: none;\n",
              "    fill: var(--fill-color);\n",
              "    height: 32px;\n",
              "    padding: 0;\n",
              "    width: 32px;\n",
              "  }\n",
              "\n",
              "  .colab-df-quickchart:hover {\n",
              "    background-color: var(--hover-bg-color);\n",
              "    box-shadow: 0 1px 2px rgba(60, 64, 67, 0.3), 0 1px 3px 1px rgba(60, 64, 67, 0.15);\n",
              "    fill: var(--button-hover-fill-color);\n",
              "  }\n",
              "\n",
              "  .colab-df-quickchart-complete:disabled,\n",
              "  .colab-df-quickchart-complete:disabled:hover {\n",
              "    background-color: var(--disabled-bg-color);\n",
              "    fill: var(--disabled-fill-color);\n",
              "    box-shadow: none;\n",
              "  }\n",
              "\n",
              "  .colab-df-spinner {\n",
              "    border: 2px solid var(--fill-color);\n",
              "    border-color: transparent;\n",
              "    border-bottom-color: var(--fill-color);\n",
              "    animation:\n",
              "      spin 1s steps(1) infinite;\n",
              "  }\n",
              "\n",
              "  @keyframes spin {\n",
              "    0% {\n",
              "      border-color: transparent;\n",
              "      border-bottom-color: var(--fill-color);\n",
              "      border-left-color: var(--fill-color);\n",
              "    }\n",
              "    20% {\n",
              "      border-color: transparent;\n",
              "      border-left-color: var(--fill-color);\n",
              "      border-top-color: var(--fill-color);\n",
              "    }\n",
              "    30% {\n",
              "      border-color: transparent;\n",
              "      border-left-color: var(--fill-color);\n",
              "      border-top-color: var(--fill-color);\n",
              "      border-right-color: var(--fill-color);\n",
              "    }\n",
              "    40% {\n",
              "      border-color: transparent;\n",
              "      border-right-color: var(--fill-color);\n",
              "      border-top-color: var(--fill-color);\n",
              "    }\n",
              "    60% {\n",
              "      border-color: transparent;\n",
              "      border-right-color: var(--fill-color);\n",
              "    }\n",
              "    80% {\n",
              "      border-color: transparent;\n",
              "      border-right-color: var(--fill-color);\n",
              "      border-bottom-color: var(--fill-color);\n",
              "    }\n",
              "    90% {\n",
              "      border-color: transparent;\n",
              "      border-bottom-color: var(--fill-color);\n",
              "    }\n",
              "  }\n",
              "</style>\n",
              "\n",
              "  <script>\n",
              "    async function quickchart(key) {\n",
              "      const quickchartButtonEl =\n",
              "        document.querySelector('#' + key + ' button');\n",
              "      quickchartButtonEl.disabled = true;  // To prevent multiple clicks.\n",
              "      quickchartButtonEl.classList.add('colab-df-spinner');\n",
              "      try {\n",
              "        const charts = await google.colab.kernel.invokeFunction(\n",
              "            'suggestCharts', [key], {});\n",
              "      } catch (error) {\n",
              "        console.error('Error during call to suggestCharts:', error);\n",
              "      }\n",
              "      quickchartButtonEl.classList.remove('colab-df-spinner');\n",
              "      quickchartButtonEl.classList.add('colab-df-quickchart-complete');\n",
              "    }\n",
              "    (() => {\n",
              "      let quickchartButtonEl =\n",
              "        document.querySelector('#df-1daf5824-e96e-4eb2-ae7a-120b6bb1a9f8 button');\n",
              "      quickchartButtonEl.style.display =\n",
              "        google.colab.kernel.accessAllowed ? 'block' : 'none';\n",
              "    })();\n",
              "  </script>\n",
              "</div>\n",
              "    </div>\n",
              "  </div>\n"
            ],
            "application/vnd.google.colaboratory.intrinsic+json": {
              "type": "dataframe",
              "variable_name": "iris",
              "summary": "{\n  \"name\": \"iris\",\n  \"rows\": 150,\n  \"fields\": [\n    {\n      \"column\": \"SepalLengthCm\",\n      \"properties\": {\n        \"dtype\": \"number\",\n        \"std\": 0.8280661279778629,\n        \"min\": 4.3,\n        \"max\": 7.9,\n        \"num_unique_values\": 35,\n        \"samples\": [\n          6.2,\n          4.5,\n          5.6\n        ],\n        \"semantic_type\": \"\",\n        \"description\": \"\"\n      }\n    },\n    {\n      \"column\": \"SepalWidthCm\",\n      \"properties\": {\n        \"dtype\": \"number\",\n        \"std\": 0.4335943113621737,\n        \"min\": 2.0,\n        \"max\": 4.4,\n        \"num_unique_values\": 23,\n        \"samples\": [\n          2.3,\n          4.0,\n          3.5\n        ],\n        \"semantic_type\": \"\",\n        \"description\": \"\"\n      }\n    },\n    {\n      \"column\": \"PetalLengthCm\",\n      \"properties\": {\n        \"dtype\": \"number\",\n        \"std\": 1.7644204199522617,\n        \"min\": 1.0,\n        \"max\": 6.9,\n        \"num_unique_values\": 43,\n        \"samples\": [\n          6.7,\n          3.8,\n          3.7\n        ],\n        \"semantic_type\": \"\",\n        \"description\": \"\"\n      }\n    },\n    {\n      \"column\": \"PetalWidthCm\",\n      \"properties\": {\n        \"dtype\": \"number\",\n        \"std\": 0.7631607417008414,\n        \"min\": 0.1,\n        \"max\": 2.5,\n        \"num_unique_values\": 22,\n        \"samples\": [\n          0.2,\n          1.2,\n          1.3\n        ],\n        \"semantic_type\": \"\",\n        \"description\": \"\"\n      }\n    },\n    {\n      \"column\": \"Species\",\n      \"properties\": {\n        \"dtype\": \"category\",\n        \"num_unique_values\": 3,\n        \"samples\": [\n          \"Iris-setosa\",\n          \"Iris-versicolor\",\n          \"Iris-virginica\"\n        ],\n        \"semantic_type\": \"\",\n        \"description\": \"\"\n      }\n    }\n  ]\n}"
            }
          },
          "metadata": {},
          "execution_count": 7
        }
      ]
    },
    {
      "cell_type": "markdown",
      "source": [
        "Давайте проверим, сколько у нас разных видов ирисов в итоге - должно быть 3 по 50 штук каждый. Воспользуйтесь `value_counts` , чтобы посмотреть, какие есть возможные значения у колонки species."
      ],
      "metadata": {
        "id": "R2j3kkefV5DP"
      }
    },
    {
      "cell_type": "code",
      "source": [
        "# TODO"
      ],
      "metadata": {
        "id": "ciikB8rDYmvE"
      },
      "execution_count": null,
      "outputs": []
    },
    {
      "cell_type": "markdown",
      "source": [
        "## 3.1 Графики длины и ширины лепестка ириса\n",
        "\n",
        "Давайте попробуем сравнить, связаны ли ширина и длина лепестков - воспользуйтесь `sns.scatterplot`, чтобы отобразить на оси OXY значения. Не забудьте подписать график и оси!"
      ],
      "metadata": {
        "id": "WXYdKrdqYp6I"
      }
    },
    {
      "cell_type": "code",
      "source": [
        "# TODO"
      ],
      "metadata": {
        "id": "yC3bz9HHadj2"
      },
      "execution_count": null,
      "outputs": []
    },
    {
      "cell_type": "markdown",
      "source": [
        "Напишите, какие выводы можно сделать из графика. Чего графику не хватает, чтобы он был информативным?\n",
        "\n",
        "<font color='red'>ВАШ ОТВЕТ ЗДЕСЬ</font>"
      ],
      "metadata": {
        "id": "xnNewWCcbRqu"
      }
    },
    {
      "cell_type": "markdown",
      "source": [
        "Давайте попробуем другие графики для тех же целей из библиотеки seaborn - `sns.jointplot`; кроме того, попробуйте выделить цветом точки на графике в зависимости от вида ириса - воспользуйтесь `sns.facetgrid`. В следующих ячейках выведите эти два графика и проанализируйте."
      ],
      "metadata": {
        "id": "9KNx2DY7b92b"
      }
    },
    {
      "cell_type": "code",
      "source": [
        "#TODO"
      ],
      "metadata": {
        "id": "n448lJCObP6J"
      },
      "execution_count": null,
      "outputs": []
    },
    {
      "cell_type": "code",
      "source": [],
      "metadata": {
        "id": "GFRnPtx1cV2D"
      },
      "execution_count": null,
      "outputs": []
    },
    {
      "cell_type": "markdown",
      "source": [
        "Какие выводы можно сделать из этих графиков? Какой из 3 методов - scatterplot, jointplot, facetgrid вам кажется лучше?\n",
        "\n",
        "<font color='red'> ВАШ ОТВЕТ ЗДЕСЬ </font>"
      ],
      "metadata": {
        "id": "9AoAkXk5cV9h"
      }
    },
    {
      "cell_type": "markdown",
      "source": [
        "## 3.2 Графики распределений значений длины лепестка"
      ],
      "metadata": {
        "id": "VLhlRICGc75D"
      }
    },
    {
      "cell_type": "markdown",
      "source": [
        "Постройте график \"ящика с усами\" - `sns.boxplot` и его аналог - `sns.violinplot`. По оси Ox должны находиться возможные виды ирисов, по оси Oy."
      ],
      "metadata": {
        "id": "6ZFYjsYUdBuI"
      }
    },
    {
      "cell_type": "code",
      "source": [
        "# TODO"
      ],
      "metadata": {
        "id": "r3ZO1ll9dr9N"
      },
      "execution_count": null,
      "outputs": []
    },
    {
      "cell_type": "code",
      "source": [],
      "metadata": {
        "id": "2hlonw5odtbL"
      },
      "execution_count": null,
      "outputs": []
    },
    {
      "cell_type": "markdown",
      "source": [
        "Сравните два вида графиков. Какой более информативный, а какой - более красивый визуально по вашему мнению? Какую информацию мы можем получить из этих графиков?\n",
        "\n",
        "<font color='red'> ВАШ ОТВЕТ ЗДЕСЬ </font>"
      ],
      "metadata": {
        "id": "etGxbdVedtmW"
      }
    },
    {
      "cell_type": "markdown",
      "source": [
        "## 3.3 Попарные графики взаимосвязи признаков\n",
        "\n",
        "\n",
        "Давайте попробуем построить большую табличку из графиковв размера 4 на 4, где у нас находятся все возможные пары признаков (длина/ширина лепестка, длина/ширина чашелистика). Для этого воспользуйтесь `sns.pairplot` и не забудьте указать параметр `hue`."
      ],
      "metadata": {
        "id": "l3Ds9W78eXQ7"
      }
    },
    {
      "cell_type": "code",
      "source": [
        "# TODO"
      ],
      "metadata": {
        "id": "Inl3JIWKe9VU"
      },
      "execution_count": null,
      "outputs": []
    },
    {
      "cell_type": "markdown",
      "source": [
        "Какую информацию о взаимосвязи признаков вы можете почерпнуть из полученного графика?\n",
        "\n",
        "<font color='red'> ВАШ ОТВЕТ ЗДЕСЬ </font>"
      ],
      "metadata": {
        "id": "TI5q8XmWfFlG"
      }
    },
    {
      "cell_type": "markdown",
      "source": [
        "Какие графики находятся на диагонали этой таблицы?\n",
        "\n",
        "<font color='red'> ВАШ ОТВЕТ ЗДЕСЬ </font>"
      ],
      "metadata": {
        "id": "Qjx7hlPqfMUs"
      }
    },
    {
      "cell_type": "markdown",
      "source": [
        "Попробуй заменить графики на диагонали таблицы на другие, возможно, более информативные (подсказка: в документации у `sns.pairplot` для этого есть специальный параметр). Выведи полученный график."
      ],
      "metadata": {
        "id": "1lLyldeDfR0l"
      }
    },
    {
      "cell_type": "code",
      "source": [
        "# TODO"
      ],
      "metadata": {
        "id": "nzziJ41Wfgfo"
      },
      "execution_count": null,
      "outputs": []
    },
    {
      "cell_type": "markdown",
      "source": [
        "Какие графики теперь находятся на диагонали таблицы? Получилось ли более информативно?\n",
        "\n",
        "<font color='red'> ВАШ ОТВЕТ ЗДЕСЬ </font>"
      ],
      "metadata": {
        "id": "_lOw8ntYfhLX"
      }
    },
    {
      "cell_type": "markdown",
      "source": [],
      "metadata": {
        "id": "QYw4Ipx8frhJ"
      }
    }
  ],
  "metadata": {
    "colab": {
      "provenance": [],
      "toc_visible": true
    },
    "kernelspec": {
      "display_name": "Python 3",
      "name": "python3"
    },
    "language_info": {
      "codemirror_mode": {
        "name": "ipython",
        "version": 3
      },
      "file_extension": ".py",
      "mimetype": "text/x-python",
      "name": "python",
      "nbconvert_exporter": "python",
      "pygments_lexer": "ipython3",
      "version": "3.10.14"
    }
  },
  "nbformat": 4,
  "nbformat_minor": 0
}